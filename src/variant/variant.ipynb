{
 "cells": [
  {
   "cell_type": "code",
   "execution_count": 24,
   "id": "7a4c6d5a",
   "metadata": {},
   "outputs": [
    {
     "name": "stdout",
     "output_type": "stream",
     "text": [
      "✅ Spark session initialized\n"
     ]
    },
    {
     "data": {
      "application/vnd.jupyter.widget-view+json": {
       "model_id": "9e237e5924f94ea587de7c53277a4741",
       "version_major": 2,
       "version_minor": 0
      },
      "text/plain": [
       "HBox(children=(IntProgress(value=0, bar_style='success'), Label(value='')))"
      ]
     },
     "metadata": {},
     "output_type": "display_data"
    },
    {
     "name": "stdout",
     "output_type": "stream",
     "text": [
      "Current catalog: users\n"
     ]
    },
    {
     "data": {
      "application/vnd.jupyter.widget-view+json": {
       "model_id": "ab1aaf1837434cbcb4b2bffb2daaad45",
       "version_major": 2,
       "version_minor": 0
      },
      "text/plain": [
       "HBox(children=(IntProgress(value=0, bar_style='success'), Label(value='')))"
      ]
     },
     "metadata": {},
     "output_type": "display_data"
    },
    {
     "name": "stdout",
     "output_type": "stream",
     "text": [
      "Current schema: pavan_naidu\n",
      "Configuration: CATALOG=users, SCHEMA=pavan_naidu, VOLUME=raw_data\n"
     ]
    }
   ],
   "source": [
    "# VARIANT Data Type Exploration in Databricks\n",
    "# This notebook demonstrates various features and capabilities of the VARIANT data type\n",
    "\n",
    "from pyspark.sql import SparkSession\n",
    "from pyspark.sql.functions import *\n",
    "from pyspark.sql.types import *\n",
    "import json\n",
    "import random\n",
    "from datetime import datetime, timedelta\n",
    "from faker import Faker\n",
    "import os\n",
    "\n",
    "# =============================================================================\n",
    "# CONFIGURATION PARAMETERS\n",
    "# =============================================================================\n",
    "# Update these parameters to customize the notebook for your environment\n",
    "CATALOG = \"users\"                    # Unity Catalog name\n",
    "SCHEMA = \"pavan_naidu\"               # Schema name within the catalog\n",
    "VOLUME = \"raw_data\"                  # Volume name for storing data\n",
    "# =============================================================================\n",
    "\n",
    "def get_spark() -> SparkSession:\n",
    "    try:\n",
    "        from databricks.connect import DatabricksSession\n",
    "        return DatabricksSession.builder.getOrCreate()\n",
    "    except Exception:\n",
    "        return SparkSession.builder.getOrCreate()\n",
    "\n",
    "spark = get_spark()\n",
    "fake = Faker()\n",
    "\n",
    "# Set catalog and schema using parameters\n",
    "spark.sql(f\"USE CATALOG {CATALOG}\")\n",
    "spark.sql(f\"USE SCHEMA {SCHEMA}\")\n",
    "\n",
    "print(\"✅ Spark session initialized\")\n",
    "print(f\"Current catalog: {spark.sql('SELECT current_catalog()').collect()[0][0]}\")\n",
    "print(f\"Current schema: {spark.sql('SELECT current_schema()').collect()[0][0]}\")\n",
    "print(f\"Configuration: CATALOG={CATALOG}, SCHEMA={SCHEMA}, VOLUME={VOLUME}\")"
   ]
  },
  {
   "cell_type": "markdown",
   "id": "33486a7c",
   "metadata": {},
   "source": [
    "## 1. Setup: Create UC Volume and Generate Fake JSON Data\n",
    "\n",
    "First, let's create a folder in Unity Catalog volume and generate diverse JSON data to showcase VARIANT functionality.\n"
   ]
  },
  {
   "cell_type": "code",
   "execution_count": 25,
   "id": "636affdd",
   "metadata": {},
   "outputs": [
    {
     "name": "stdout",
     "output_type": "stream",
     "text": [
      "✅ Volume 'raw_data' is ready\n",
      "Volume path: /Volumes/users/pavan_naidu/raw_data\n"
     ]
    }
   ],
   "source": [
    "# Create or verify volume exists\n",
    "try:\n",
    "    spark.sql(f\"CREATE VOLUME IF NOT EXISTS {CATALOG}.{SCHEMA}.{VOLUME}\")\n",
    "    print(f\"✅ Volume '{VOLUME}' is ready\")\n",
    "except Exception as e:\n",
    "    print(f\"Volume might already exist or error: {e}\")\n",
    "\n",
    "# Get the volume path\n",
    "volume_path = f\"/Volumes/{CATALOG}/{SCHEMA}/{VOLUME}\"\n",
    "print(f\"Volume path: {volume_path}\")\n"
   ]
  },
  {
   "cell_type": "code",
   "execution_count": 26,
   "id": "f2ce3c0f",
   "metadata": {},
   "outputs": [
    {
     "name": "stdout",
     "output_type": "stream",
     "text": [
      "Generating fake user data...\n",
      "✅ Generated 1000 user records with evolving schemas\n",
      "\n",
      "Sample user records showing schema evolution:\n",
      "\n",
      "1. Basic user (early schema):\n",
      "{\n",
      "  \"user_id\": \"8c4f1e37-d08d-4d77-9e6b-25c215f0aee6\",\n",
      "  \"username\": \"iwolf\",\n",
      "  \"email\": \"trevinomaureen@example.org\",\n",
      "  \"name\": \"Paul Moreno\",\n",
      "  \"age\": 29,\n",
      "  \"created_at\": \"2022-10-25 21:46:32.438970\",\n",
      "  \"last_login\": \"2025-08-23 04:45:42.686046\",\n",
      "  \"profile\": {\n",
      "    \"bio\": \"Financial wall police catch despite. Cell reason us maintain.\\nDirector wife family ago. Science service nearly land design sort.\",\n",
      "    \"occupation\": \"Materials engineer\",\n",
      "    \"company\": \"Allen Group\",\n",
      "    \"interests\": [\n",
      "      \"type\",\n",
      "      \"they\",\n",
      "      \"into\",\n",
      "      \"city\",\n",
      "      \"after\"\n",
      "    ],\n",
      "    \"skills\": [\n",
      "      \"Car...\n",
      "\n",
      "2. User with social media (mid evolution):\n",
      "{\n",
      "  \"user_id\": \"49aa1f96-a568-487a-a34f-dd102f80081f\",\n",
      "  \"username\": \"waynewheeler\",\n",
      "  \"email\": \"ericksonmichael@example.org\",\n",
      "  \"name\": \"Michael Figueroa\",\n",
      "  \"age\": 30,\n",
      "  \"created_at\": \"2023-05-01 06:08:12.254592\",\n",
      "  \"last_login\": \"2025-09-05 19:04:57.326114\",\n",
      "  \"profile\": {\n",
      "    \"bio\": \"Billion article around sit pay middle. Station so his hour simply history environmental great. Thousand better condition town general sit.\\nThemselves plan back.\",\n",
      "    \"occupation\": \"Hydrographic surveyor\",\n",
      "    \"company\": \"Peters, Harrington and Walker\",\n",
      "    \"interests\": [\n",
      "      \"it\"\n",
      "    ],\n",
      "    \"skills\": [\n",
      "   ...\n",
      "\n",
      "3. User with full schema (latest):\n",
      "{\n",
      "  \"user_id\": \"e05b4101-c748-49df-959d-6e2bcf4d1331\",\n",
      "  \"username\": \"jaredchristian\",\n",
      "  \"email\": \"dbowen@example.net\",\n",
      "  \"name\": \"Amy Harmon\",\n",
      "  \"age\": 29,\n",
      "  \"created_at\": \"2025-01-09 22:37:24.173908\",\n",
      "  \"last_login\": \"2025-08-11 02:01:23.163687\",\n",
      "  \"profile\": {\n",
      "    \"bio\": \"Herself cell else federal reason yard record issue. Whatever wait including financial. Benefit money six.\",\n",
      "    \"occupation\": \"Computer games developer\",\n",
      "    \"company\": \"Smith-Mclean\",\n",
      "    \"interests\": [\n",
      "      \"recent\",\n",
      "      \"she\",\n",
      "      \"sure\",\n",
      "      \"get\"\n",
      "    ],\n",
      "    \"skills\": [\n",
      "      \"Engineer, maintenance\"\n",
      "    ]\n",
      "  },\n",
      " ...\n"
     ]
    }
   ],
   "source": [
    "# Generate fake user data to demonstrate VARIANT capabilities\n",
    "\n",
    "def generate_user_data(num_records=1000):\n",
    "    \"\"\"Generate user data with varying structures to simulate schema evolution\"\"\"\n",
    "    users = []\n",
    "    \n",
    "    for i in range(num_records):\n",
    "        # Basic user structure (all users have these fields)\n",
    "        user = {\n",
    "            \"user_id\": str(fake.uuid4()),\n",
    "            \"username\": fake.user_name(),\n",
    "            \"email\": fake.email(),\n",
    "            \"name\": fake.name(),\n",
    "            \"age\": random.randint(18, 80),\n",
    "            \"created_at\": str(fake.date_time_between(start_date='-5y', end_date='now')),\n",
    "            \"last_login\": str(fake.date_time_between(start_date='-30d', end_date='now'))\n",
    "        }\n",
    "        \n",
    "        # Profile information (nested structure)\n",
    "        user[\"profile\"] = {\n",
    "            \"bio\": fake.text(max_nb_chars=200),\n",
    "            \"occupation\": fake.job(),\n",
    "            \"company\": fake.company(),\n",
    "            \"interests\": [fake.word() for _ in range(random.randint(1, 5))],\n",
    "            \"skills\": [fake.job() for _ in range(random.randint(0, 3))]\n",
    "        }\n",
    "        \n",
    "        # Address information (nested with multiple levels)\n",
    "        user[\"address\"] = {\n",
    "            \"street\": fake.street_address(),\n",
    "            \"city\": fake.city(),\n",
    "            \"state\": fake.state(),\n",
    "            \"country\": fake.country(),\n",
    "            \"postal_code\": fake.postcode(),\n",
    "            \"coordinates\": {\n",
    "                \"latitude\": float(fake.latitude()),\n",
    "                \"longitude\": float(fake.longitude())\n",
    "            }\n",
    "        }\n",
    "        \n",
    "        # Preferences (nested boolean flags)\n",
    "        user[\"preferences\"] = {\n",
    "            \"newsletter\": bool(random.choice([True, False])),\n",
    "            \"notifications\": {\n",
    "                \"email\": bool(random.choice([True, False])),\n",
    "                \"sms\": bool(random.choice([True, False])),\n",
    "                \"push\": bool(random.choice([True, False])),\n",
    "                \"frequency\": random.choice([\"daily\", \"weekly\", \"monthly\", \"never\"])\n",
    "            },\n",
    "            \"privacy\": {\n",
    "                \"profile_visible\": bool(random.choice([True, False])),\n",
    "                \"show_email\": bool(random.choice([True, False])),\n",
    "                \"show_location\": bool(random.choice([True, False]))\n",
    "            }\n",
    "        }\n",
    "        \n",
    "        # Simulate schema evolution - newer users have additional fields\n",
    "        if i > num_records * 0.3:  # 70% of users have these newer fields\n",
    "            user[\"social_media\"] = {\n",
    "                \"twitter\": f\"@{fake.user_name()}\" if random.random() > 0.3 else None,\n",
    "                \"linkedin\": fake.url() if random.random() > 0.5 else None,\n",
    "                \"github\": f\"github.com/{fake.user_name()}\" if random.random() > 0.7 else None\n",
    "            }\n",
    "            \n",
    "        if i > num_records * 0.6:  # 40% of users have these newest fields\n",
    "            user[\"subscription\"] = {\n",
    "                \"tier\": random.choice([\"free\", \"basic\", \"premium\", \"enterprise\"]),\n",
    "                \"start_date\": str(fake.date_between(start_date='-2y', end_date='today')),\n",
    "                \"auto_renew\": bool(random.choice([True, False]))\n",
    "            }\n",
    "            user[\"metrics\"] = {\n",
    "                \"login_count\": random.randint(1, 1000),\n",
    "                \"posts_created\": random.randint(0, 500),\n",
    "                \"comments_made\": random.randint(0, 2000),\n",
    "                \"last_activity\": str(fake.date_time_between(start_date='-7d', end_date='now'))\n",
    "            }\n",
    "        \n",
    "        # Some users have optional fields (simulate sparse data)\n",
    "        if random.random() > 0.7:\n",
    "            user[\"phone\"] = fake.phone_number()\n",
    "        \n",
    "        if random.random() > 0.8:\n",
    "            user[\"referral_code\"] = fake.bothify(text='REF-####-????')\n",
    "            user[\"referred_by\"] = str(fake.uuid4()) if random.random() > 0.5 else None\n",
    "        \n",
    "        users.append(user)\n",
    "    \n",
    "    return users\n",
    "\n",
    "# Generate sample user data\n",
    "print(\"Generating fake user data...\")\n",
    "user_data = generate_user_data(1000)\n",
    "print(f\"✅ Generated {len(user_data)} user records with evolving schemas\")\n",
    "\n",
    "# Show sample records demonstrating schema evolution\n",
    "print(\"\\nSample user records showing schema evolution:\")\n",
    "print(\"\\n1. Basic user (early schema):\")\n",
    "print(json.dumps(user_data[100], indent=2)[:600] + \"...\")\n",
    "print(\"\\n2. User with social media (mid evolution):\")\n",
    "print(json.dumps(user_data[500], indent=2)[:600] + \"...\")\n",
    "print(\"\\n3. User with full schema (latest):\")\n",
    "print(json.dumps(user_data[900], indent=2)[:600] + \"...\")\n"
   ]
  },
  {
   "cell_type": "code",
   "execution_count": 27,
   "id": "6431e72c",
   "metadata": {},
   "outputs": [
    {
     "name": "stdout",
     "output_type": "stream",
     "text": [
      "✅ Created folder: /Volumes/users/pavan_naidu/raw_data/users\n",
      "✅ Saved JSON data to: /Volumes/users/pavan_naidu/raw_data/users/user_data.json\n",
      "✅ Saved JSONL data to: /Volumes/users/pavan_naidu/raw_data/users/user_data.jsonl\n",
      "\n",
      "📂 Folder structure created:\n"
     ]
    },
    {
     "data": {
      "text/plain": [
       "[FileInfo(path='/Volumes/users/pavan_naidu/raw_data/users/user_data.json', name='user_data.json', size=1159979, modificationTime=1757393703000),\n",
       " FileInfo(path='/Volumes/users/pavan_naidu/raw_data/users/user_data.jsonl', name='user_data.jsonl', size=1158978, modificationTime=1757393705000)]"
      ]
     },
     "metadata": {},
     "output_type": "display_data"
    }
   ],
   "source": [
    "# Create a users folder in the volume\n",
    "users_folder = f\"{volume_path}/users\"\n",
    "try:\n",
    "    dbutils.fs.mkdirs(users_folder)\n",
    "    print(f\"✅ Created folder: {users_folder}\")\n",
    "except Exception as e:\n",
    "    print(f\"Folder might already exist: {e}\")\n",
    "\n",
    "# Save JSON data to users folder\n",
    "json_file_path = f\"{users_folder}/user_data.json\"\n",
    "\n",
    "# Write JSON data to file\n",
    "dbutils.fs.put(json_file_path, json.dumps(user_data), overwrite=True)\n",
    "print(f\"✅ Saved JSON data to: {json_file_path}\")\n",
    "\n",
    "# Also save as individual JSON lines for easier processing\n",
    "jsonl_file_path = f\"{users_folder}/user_data.jsonl\"\n",
    "jsonl_content = \"\\n\".join([json.dumps(user) for user in user_data])\n",
    "dbutils.fs.put(jsonl_file_path, jsonl_content, overwrite=True)\n",
    "print(f\"✅ Saved JSONL data to: {jsonl_file_path}\")\n",
    "\n",
    "# # Optionally, save data partitioned by subscription tier for those who have it\n",
    "# print(\"\\n📁 Creating partitioned data by subscription tier...\")\n",
    "# for user in user_data:\n",
    "#     if \"subscription\" in user:\n",
    "#         tier = user.get(\"subscription\", {}).get(\"tier\", \"unknown\")\n",
    "#         tier_folder = f\"{users_folder}/by_tier/{tier}\"\n",
    "        \n",
    "#         # Create tier folder if it doesn't exist\n",
    "#         try:\n",
    "#             dbutils.fs.mkdirs(tier_folder)\n",
    "#         except:\n",
    "#             pass  # Folder exists\n",
    "        \n",
    "#         # Save user to appropriate tier folder\n",
    "#         user_file = f\"{tier_folder}/{user['user_id']}.json\"\n",
    "#         dbutils.fs.put(user_file, json.dumps(user), overwrite=True)\n",
    "\n",
    "# print(\"✅ Created partitioned user data by subscription tier\")\n",
    "\n",
    "# List the created structure\n",
    "print(\"\\n📂 Folder structure created:\")\n",
    "display(dbutils.fs.ls(users_folder))\n"
   ]
  },
  {
   "cell_type": "markdown",
   "id": "386a4093",
   "metadata": {},
   "source": [
    "## 2. Creating Tables with VARIANT Data Type\n",
    "\n",
    "Let's create tables to store our JSON data using the VARIANT type.\n"
   ]
  },
  {
   "cell_type": "code",
   "execution_count": 28,
   "id": "af3baff3",
   "metadata": {},
   "outputs": [
    {
     "name": "stdout",
     "output_type": "stream",
     "text": [
      "✅ Created table: users_variant with column defaults enabled\n",
      "✅ Created table: users_extracted\n",
      "\n",
      "Table Schemas:\n",
      "+-------------------+---------+-------+\n",
      "|           col_name|data_type|comment|\n",
      "+-------------------+---------+-------+\n",
      "|            user_id|   string|   NULL|\n",
      "|           username|   string|   NULL|\n",
      "|              email|   string|   NULL|\n",
      "|          user_data|  variant|   NULL|\n",
      "|ingestion_timestamp|timestamp|   NULL|\n",
      "+-------------------+---------+-------+\n",
      "\n",
      "+-------------------+---------+-------+\n",
      "|           col_name|data_type|comment|\n",
      "+-------------------+---------+-------+\n",
      "|            user_id|   string|   NULL|\n",
      "|           username|   string|   NULL|\n",
      "|              email|   string|   NULL|\n",
      "|               name|   string|   NULL|\n",
      "|                age|      int|   NULL|\n",
      "|               city|   string|   NULL|\n",
      "|            country|   string|   NULL|\n",
      "|  subscription_tier|   string|   NULL|\n",
      "|          user_data|  variant|   NULL|\n",
      "|ingestion_timestamp|timestamp|   NULL|\n",
      "+-------------------+---------+-------+\n",
      "\n"
     ]
    }
   ],
   "source": [
    "# Drop tables if they exist\n",
    "spark.sql(\"DROP TABLE IF EXISTS users_variant\")\n",
    "spark.sql(\"DROP TABLE IF EXISTS users_extracted\")\n",
    "\n",
    "# Create a table with VARIANT column for user data\n",
    "# Enable Delta feature for column defaults\n",
    "spark.sql(f\"\"\"\n",
    "    CREATE TABLE IF NOT EXISTS users_variant (\n",
    "        user_id STRING,\n",
    "        username STRING,\n",
    "        email STRING,\n",
    "        user_data VARIANT,\n",
    "        ingestion_timestamp TIMESTAMP DEFAULT CURRENT_TIMESTAMP()\n",
    "    )\n",
    "    USING DELTA\n",
    "    TBLPROPERTIES('delta.feature.allowColumnDefaults' = 'supported')\n",
    "    COMMENT 'Table storing user data in VARIANT column'\n",
    "\"\"\")\n",
    "\n",
    "print(\"✅ Created table: users_variant with column defaults enabled\")\n",
    "\n",
    "# Create another table with extracted fields for performance comparison\n",
    "spark.sql(f\"\"\"\n",
    "    CREATE TABLE IF NOT EXISTS users_extracted (\n",
    "        user_id STRING,\n",
    "        username STRING,\n",
    "        email STRING,\n",
    "        name STRING,\n",
    "        age INT,\n",
    "        city STRING,\n",
    "        country STRING,\n",
    "        subscription_tier STRING,\n",
    "        user_data VARIANT,\n",
    "        ingestion_timestamp TIMESTAMP DEFAULT CURRENT_TIMESTAMP()\n",
    "    )\n",
    "    USING DELTA\n",
    "    TBLPROPERTIES('delta.feature.allowColumnDefaults' = 'supported')\n",
    "    COMMENT 'Table with commonly accessed fields extracted from VARIANT'\n",
    "\"\"\")\n",
    "\n",
    "print(\"✅ Created table: users_extracted\")\n",
    "\n",
    "# Show table schemas\n",
    "print(\"\\nTable Schemas:\")\n",
    "spark.sql(\"DESCRIBE TABLE users_variant\").show()\n",
    "spark.sql(\"DESCRIBE TABLE users_extracted\").show()\n"
   ]
  },
  {
   "cell_type": "markdown",
   "id": "46f420ad",
   "metadata": {},
   "source": [
    "## 3. Loading Data into VARIANT Columns\n",
    "\n",
    "Now let's load our JSON data into the tables using different methods.\n"
   ]
  },
  {
   "cell_type": "code",
   "execution_count": 29,
   "id": "ce9e0c04",
   "metadata": {},
   "outputs": [
    {
     "data": {
      "application/vnd.jupyter.widget-view+json": {
       "model_id": "c1b76c5a5b5b40dfb89ba851be8c467e",
       "version_major": 2,
       "version_minor": 0
      },
      "text/plain": [
       "HBox(children=(IntProgress(value=0, bar_style='success'), Label(value='')))"
      ]
     },
     "metadata": {},
     "output_type": "display_data"
    },
    {
     "data": {
      "application/vnd.jupyter.widget-view+json": {
       "model_id": "f2f9bee605604c37a9298da4113e84e8",
       "version_major": 2,
       "version_minor": 0
      },
      "text/plain": [
       "HBox(children=(IntProgress(value=0, bar_style='success'), Label(value='')))"
      ]
     },
     "metadata": {},
     "output_type": "display_data"
    },
    {
     "name": "stdout",
     "output_type": "stream",
     "text": [
      "✅ Loaded 1000 records into users_variant using PARSE_JSON\n",
      "\n",
      "Sample data from users_variant:\n"
     ]
    },
    {
     "data": {
      "application/vnd.jupyter.widget-view+json": {
       "model_id": "c4801cacb2874c1aa29823f15ff50d96",
       "version_major": 2,
       "version_minor": 0
      },
      "text/plain": [
       "HBox(children=(IntProgress(value=0, bar_style='success'), Label(value='')))"
      ]
     },
     "metadata": {},
     "output_type": "display_data"
    },
    {
     "name": "stdout",
     "output_type": "stream",
     "text": [
      "+------------------------------------+---------------+--------------------------+---------------------------------------------------------------------------------------------------------------------------------------------------------------------------------------------------------------------------------------------------------------------------------------------------------------------------------------------------------------------------------------------------------------------------------------------------------------------------------------------------------------------------------------------------------------------------------------------------------------------------------------------------------------------------------------------------------------------------------------------------------------------------------------------------------------------------------------------------------------------------------------------------------------------------------------------------------------------------------------------------------------------------------------------------------------+--------------------------+\n",
      "|user_id                             |username       |email                     |user_data                                                                                                                                                                                                                                                                                                                                                                                                                                                                                                                                                                                                                                                                                                                                                                                                                                                                                                                                                                                                                                                      |ingestion_timestamp       |\n",
      "+------------------------------------+---------------+--------------------------+---------------------------------------------------------------------------------------------------------------------------------------------------------------------------------------------------------------------------------------------------------------------------------------------------------------------------------------------------------------------------------------------------------------------------------------------------------------------------------------------------------------------------------------------------------------------------------------------------------------------------------------------------------------------------------------------------------------------------------------------------------------------------------------------------------------------------------------------------------------------------------------------------------------------------------------------------------------------------------------------------------------------------------------------------------------+--------------------------+\n",
      "|2f32f341-0ab8-4347-b998-6f31261d5843|williamrobinson|iferguson@example.com     |{\"address\":{\"city\":\"New Ashley\",\"coordinates\":{\"latitude\":-29.547778,\"longitude\":-75.287629},\"country\":\"Costa Rica\",\"postal_code\":\"34256\",\"state\":\"Utah\",\"street\":\"4788 Wells Mall Suite 148\"},\"age\":42,\"created_at\":\"2023-03-04 01:53:53.918774\",\"email\":\"iferguson@example.com\",\"last_login\":\"2025-08-14 01:38:04.430378\",\"name\":\"Michael Ramirez\",\"preferences\":{\"newsletter\":false,\"notifications\":{\"email\":true,\"frequency\":\"daily\",\"push\":true,\"sms\":false},\"privacy\":{\"profile_visible\":true,\"show_email\":true,\"show_location\":true}},\"profile\":{\"bio\":\"Those bill light public should almost. Wonder ball unit hundred need life. Necessary since thought into. Each notice low size serious clear.\",\"company\":\"Andrews-Gonzalez\",\"interests\":[\"with\"],\"occupation\":\"Housing manager/officer\",\"skills\":[\"Programmer, systems\",\"Psychologist, clinical\"]},\"referral_code\":\"REF-1928-OqoE\",\"referred_by\":\"b46f0e67-226f-41a3-a870-787fdde2ea07\",\"user_id\":\"2f32f341-0ab8-4347-b998-6f31261d5843\",\"username\":\"williamrobinson\"}                           |2025-09-09 04:55:09.538582|\n",
      "|780ba3e9-1bf1-4a99-8a2b-9300e455f188|sandraharris   |pterry@example.net        |{\"address\":{\"city\":\"Johnsonfort\",\"coordinates\":{\"latitude\":8.7816625,\"longitude\":67.574535},\"country\":\"Spain\",\"postal_code\":\"26948\",\"state\":\"California\",\"street\":\"9342 Shea Cove Apt. 009\"},\"age\":61,\"created_at\":\"2025-01-17 09:37:54.671332\",\"email\":\"pterry@example.net\",\"last_login\":\"2025-08-30 19:33:40.514731\",\"name\":\"Brian King\",\"preferences\":{\"newsletter\":true,\"notifications\":{\"email\":false,\"frequency\":\"never\",\"push\":true,\"sms\":true},\"privacy\":{\"profile_visible\":true,\"show_email\":false,\"show_location\":true}},\"profile\":{\"bio\":\"Fall improve nation manager could. Participant bed bill capital top decision.\\nSoon be much smile TV understand relate.\",\"company\":\"Harding-Hopkins\",\"interests\":[\"small\",\"score\",\"many\"],\"occupation\":\"Surveyor, rural practice\",\"skills\":[\"Software engineer\"]},\"user_id\":\"780ba3e9-1bf1-4a99-8a2b-9300e455f188\",\"username\":\"sandraharris\"}                                                                                                                                                             |2025-09-09 04:55:09.538582|\n",
      "|9e2efb9b-a96a-4fd5-8f19-b2891db0a666|lcuevas        |ronaldrobinson@example.net|{\"address\":{\"city\":\"Rodneyborough\",\"coordinates\":{\"latitude\":3.110646,\"longitude\":-142.906735},\"country\":\"Iran\",\"postal_code\":\"29361\",\"state\":\"New York\",\"street\":\"92067 Ali Crossing Suite 457\"},\"age\":25,\"created_at\":\"2024-03-20 20:51:48.085973\",\"email\":\"ronaldrobinson@example.net\",\"last_login\":\"2025-09-07 09:31:37.500766\",\"name\":\"Justin Norris\",\"phone\":\"+1-444-385-7407x9383\",\"preferences\":{\"newsletter\":true,\"notifications\":{\"email\":false,\"frequency\":\"weekly\",\"push\":true,\"sms\":false},\"privacy\":{\"profile_visible\":false,\"show_email\":false,\"show_location\":true}},\"profile\":{\"bio\":\"Question operation author evening. Drive edge probably.\\nHot foot stand perform first cost its certainly. Sign arm cost mind year discuss follow. Decide since final give hair.\",\"company\":\"Perez Group\",\"interests\":[\"political\",\"by\",\"table\",\"nice\"],\"occupation\":\"Town planner\",\"skills\":[\"Civil engineer, contracting\",\"Engineer, technical sales\",\"Database administrator\"]},\"user_id\":\"9e2efb9b-a96a-4fd5-8f19-b2891db0a666\",\"username\":\"lcuevas\"}|2025-09-09 04:55:09.538582|\n",
      "|c6b4503d-5d54-4ce0-a22d-8827ee88e876|alicia28       |ashleyperry@example.net   |{\"address\":{\"city\":\"West Holly\",\"coordinates\":{\"latitude\":-78.8474005,\"longitude\":40.666618},\"country\":\"Ireland\",\"postal_code\":\"20494\",\"state\":\"Rhode Island\",\"street\":\"730 Zachary Estates Apt. 334\"},\"age\":68,\"created_at\":\"2024-11-10 07:58:11.245984\",\"email\":\"ashleyperry@example.net\",\"last_login\":\"2025-09-06 19:40:31.662057\",\"name\":\"David Kelley\",\"preferences\":{\"newsletter\":true,\"notifications\":{\"email\":false,\"frequency\":\"monthly\",\"push\":true,\"sms\":false},\"privacy\":{\"profile_visible\":false,\"show_email\":false,\"show_location\":true}},\"profile\":{\"bio\":\"Lead media real hospital true government impact discover. Me apply attack its prove. Radio oil present yes then single recognize leader.\",\"company\":\"Smith Group\",\"interests\":[\"democratic\",\"this\",\"TV\",\"full\"],\"occupation\":\"Leisure centre manager\",\"skills\":[\"Intelligence analyst\",\"Field seismologist\"]},\"user_id\":\"c6b4503d-5d54-4ce0-a22d-8827ee88e876\",\"username\":\"alicia28\"}                                                                                                |2025-09-09 04:55:09.538582|\n",
      "|4287df02-8afe-490e-a2f0-723d46c92788|zhall          |dixonlori@example.com     |{\"address\":{\"city\":\"West Elizabeth\",\"coordinates\":{\"latitude\":38.5496785,\"longitude\":-87.060181},\"country\":\"Panama\",\"postal_code\":\"35704\",\"state\":\"Missouri\",\"street\":\"66573 Stark Forge\"},\"age\":40,\"created_at\":\"2024-05-18 01:47:11.066346\",\"email\":\"dixonlori@example.com\",\"last_login\":\"2025-09-05 22:51:08.298999\",\"name\":\"Michael Gutierrez\",\"preferences\":{\"newsletter\":true,\"notifications\":{\"email\":false,\"frequency\":\"daily\",\"push\":true,\"sms\":true},\"privacy\":{\"profile_visible\":true,\"show_email\":true,\"show_location\":false}},\"profile\":{\"bio\":\"Out break region against opportunity.\\nHuman let behavior. Mission hospital evidence single citizen back.\\nFive many huge heart develop anything. Reality cup pattern employee summer.\",\"company\":\"Cole Inc\",\"interests\":[\"tend\",\"everyone\",\"position\",\"rest\",\"or\"],\"occupation\":\"Counsellor\",\"skills\":[\"Information officer\",\"Corporate treasurer\"]},\"referral_code\":\"REF-8171-jshH\",\"referred_by\":null,\"user_id\":\"4287df02-8afe-490e-a2f0-723d46c92788\",\"username\":\"zhall\"}                     |2025-09-09 04:55:09.538582|\n",
      "+------------------------------------+---------------+--------------------------+---------------------------------------------------------------------------------------------------------------------------------------------------------------------------------------------------------------------------------------------------------------------------------------------------------------------------------------------------------------------------------------------------------------------------------------------------------------------------------------------------------------------------------------------------------------------------------------------------------------------------------------------------------------------------------------------------------------------------------------------------------------------------------------------------------------------------------------------------------------------------------------------------------------------------------------------------------------------------------------------------------------------------------------------------------------+--------------------------+\n",
      "\n"
     ]
    }
   ],
   "source": [
    "# Method 1: Load from JSON file using PARSE_JSON\n",
    "spark.sql(f\"\"\"\n",
    "    INSERT INTO users_variant (user_id, username, email, user_data)\n",
    "    SELECT \n",
    "        get_json_object(value, '$.user_id') as user_id,\n",
    "        get_json_object(value, '$.username') as username,\n",
    "        get_json_object(value, '$.email') as email,\n",
    "        PARSE_JSON(value) as user_data\n",
    "    FROM (\n",
    "        SELECT value \n",
    "        FROM text.`{jsonl_file_path}`\n",
    "    )\n",
    "\"\"\")\n",
    "\n",
    "count = spark.sql(\"SELECT COUNT(*) FROM users_variant\").collect()[0][0]\n",
    "print(f\"✅ Loaded {count} records into users_variant using PARSE_JSON\")\n",
    "\n",
    "# Show sample data\n",
    "print(\"\\nSample data from users_variant:\")\n",
    "spark.sql(\"SELECT * FROM users_variant LIMIT 5\").show(truncate=False)\n"
   ]
  },
  {
   "cell_type": "code",
   "execution_count": 30,
   "id": "9f4dac47",
   "metadata": {},
   "outputs": [
    {
     "data": {
      "application/vnd.jupyter.widget-view+json": {
       "model_id": "74ec797a7bd64e1c91ee069d41433c8e",
       "version_major": 2,
       "version_minor": 0
      },
      "text/plain": [
       "HBox(children=(IntProgress(value=0, bar_style='success'), Label(value='')))"
      ]
     },
     "metadata": {},
     "output_type": "display_data"
    },
    {
     "data": {
      "application/vnd.jupyter.widget-view+json": {
       "model_id": "91dd16d3990940d29d0f9281a7f4be0a",
       "version_major": 2,
       "version_minor": 0
      },
      "text/plain": [
       "HBox(children=(IntProgress(value=0, bar_style='success'), Label(value='')))"
      ]
     },
     "metadata": {},
     "output_type": "display_data"
    },
    {
     "name": "stdout",
     "output_type": "stream",
     "text": [
      "✅ Loaded 1000 records into users_extracted with extracted fields\n",
      "\n",
      "Sample data from users_extracted (with extracted fields):\n"
     ]
    },
    {
     "data": {
      "application/vnd.jupyter.widget-view+json": {
       "model_id": "998800dd5aaf496a8b9b0ac352c4fdd4",
       "version_major": 2,
       "version_minor": 0
      },
      "text/plain": [
       "HBox(children=(IntProgress(value=0, bar_style='success'), Label(value='')))"
      ]
     },
     "metadata": {},
     "output_type": "display_data"
    },
    {
     "name": "stdout",
     "output_type": "stream",
     "text": [
      "+------------------------------------+-----------------+---+--------------+-----------------+\n",
      "|user_id                             |name             |age|city          |subscription_tier|\n",
      "+------------------------------------+-----------------+---+--------------+-----------------+\n",
      "|2f32f341-0ab8-4347-b998-6f31261d5843|Michael Ramirez  |42 |New Ashley    |NULL             |\n",
      "|780ba3e9-1bf1-4a99-8a2b-9300e455f188|Brian King       |61 |Johnsonfort   |NULL             |\n",
      "|9e2efb9b-a96a-4fd5-8f19-b2891db0a666|Justin Norris    |25 |Rodneyborough |NULL             |\n",
      "|c6b4503d-5d54-4ce0-a22d-8827ee88e876|David Kelley     |68 |West Holly    |NULL             |\n",
      "|4287df02-8afe-490e-a2f0-723d46c92788|Michael Gutierrez|40 |West Elizabeth|NULL             |\n",
      "+------------------------------------+-----------------+---+--------------+-----------------+\n",
      "\n"
     ]
    }
   ],
   "source": [
    "# Method 2: Load data with extracted fields for optimized queries\n",
    "spark.sql(f\"\"\"\n",
    "    INSERT INTO users_extracted \n",
    "    SELECT \n",
    "        get_json_object(value, '$.user_id') as user_id,\n",
    "        get_json_object(value, '$.username') as username,\n",
    "        get_json_object(value, '$.email') as email,\n",
    "        get_json_object(value, '$.name') as name,\n",
    "        CAST(get_json_object(value, '$.age') AS INT) as age,\n",
    "        get_json_object(value, '$.address.city') as city,\n",
    "        get_json_object(value, '$.address.country') as country,\n",
    "        get_json_object(value, '$.subscription.tier') as subscription_tier,\n",
    "        PARSE_JSON(value) as user_data,\n",
    "        CURRENT_TIMESTAMP() as ingestion_timestamp\n",
    "    FROM (\n",
    "        SELECT value \n",
    "        FROM text.`{jsonl_file_path}`\n",
    "    )\n",
    "\"\"\")\n",
    "\n",
    "count = spark.sql(\"SELECT COUNT(*) FROM users_extracted\").collect()[0][0]\n",
    "print(f\"✅ Loaded {count} records into users_extracted with extracted fields\")\n",
    "\n",
    "# Show sample\n",
    "print(\"\\nSample data from users_extracted (with extracted fields):\")\n",
    "spark.sql(\"SELECT user_id, name, age, city, subscription_tier FROM users_extracted LIMIT 5\").show(truncate=False)\n"
   ]
  },
  {
   "cell_type": "markdown",
   "id": "c44139d9",
   "metadata": {},
   "source": [
    "## 4. Querying VARIANT Data - Basic Access Patterns\n",
    "\n",
    "Let's explore different ways to access and query data stored in VARIANT columns.\n"
   ]
  },
  {
   "cell_type": "code",
   "execution_count": 31,
   "id": "7240c5db",
   "metadata": {},
   "outputs": [
    {
     "name": "stdout",
     "output_type": "stream",
     "text": [
      "=== Accessing Nested Fields ===\n",
      "\n"
     ]
    },
    {
     "data": {
      "application/vnd.jupyter.widget-view+json": {
       "model_id": "3ed42c02de4142deabdbacf5cf1c7430",
       "version_major": 2,
       "version_minor": 0
      },
      "text/plain": [
       "HBox(children=(IntProgress(value=0, bar_style='success'), Label(value='')))"
      ]
     },
     "metadata": {},
     "output_type": "display_data"
    },
    {
     "name": "stdout",
     "output_type": "stream",
     "text": [
      "+------------------------------------+-------------------+---+----------------------------------------------------------------------------------------------------------------------------------------------------------------------------------------+--------------------------+----------------+-----------+-----------+\n",
      "|user_id                             |name               |age|bio                                                                                                                                                                                     |occupation                |city            |latitude   |longitude  |\n",
      "+------------------------------------+-------------------+---+----------------------------------------------------------------------------------------------------------------------------------------------------------------------------------------+--------------------------+----------------+-----------+-----------+\n",
      "|2f32f341-0ab8-4347-b998-6f31261d5843|\"Michael Ramirez\"  |42 |\"Those bill light public should almost. Wonder ball unit hundred need life. Necessary since thought into. Each notice low size serious clear.\"                                          |\"Housing manager/officer\" |\"New Ashley\"    |-29.547778 |-75.287629 |\n",
      "|780ba3e9-1bf1-4a99-8a2b-9300e455f188|\"Brian King\"       |61 |\"Fall improve nation manager could. Participant bed bill capital top decision.\\nSoon be much smile TV understand relate.\"                                                               |\"Surveyor, rural practice\"|\"Johnsonfort\"   |8.7816625  |67.574535  |\n",
      "|9e2efb9b-a96a-4fd5-8f19-b2891db0a666|\"Justin Norris\"    |25 |\"Question operation author evening. Drive edge probably.\\nHot foot stand perform first cost its certainly. Sign arm cost mind year discuss follow. Decide since final give hair.\"       |\"Town planner\"            |\"Rodneyborough\" |3.110646   |-142.906735|\n",
      "|c6b4503d-5d54-4ce0-a22d-8827ee88e876|\"David Kelley\"     |68 |\"Lead media real hospital true government impact discover. Me apply attack its prove. Radio oil present yes then single recognize leader.\"                                              |\"Leisure centre manager\"  |\"West Holly\"    |-78.8474005|40.666618  |\n",
      "|4287df02-8afe-490e-a2f0-723d46c92788|\"Michael Gutierrez\"|40 |\"Out break region against opportunity.\\nHuman let behavior. Mission hospital evidence single citizen back.\\nFive many huge heart develop anything. Reality cup pattern employee summer.\"|\"Counsellor\"              |\"West Elizabeth\"|38.5496785 |-87.060181 |\n",
      "+------------------------------------+-------------------+---+----------------------------------------------------------------------------------------------------------------------------------------------------------------------------------------+--------------------------+----------------+-----------+-----------+\n",
      "\n"
     ]
    }
   ],
   "source": [
    "# Accessing nested fields using : notation\n",
    "print(\"=== Accessing Nested Fields ===\\n\")\n",
    "\n",
    "spark.sql(\"\"\"\n",
    "    SELECT \n",
    "        user_id,\n",
    "        user_data:name as name,\n",
    "        user_data:age as age,\n",
    "        user_data:profile:bio as bio,\n",
    "        user_data:profile:occupation as occupation,\n",
    "        user_data:address:city as city,\n",
    "        user_data:address:coordinates:latitude as latitude,\n",
    "        user_data:address:coordinates:longitude as longitude\n",
    "    FROM users_variant\n",
    "    LIMIT 5\n",
    "\"\"\").show(truncate=False)\n"
   ]
  },
  {
   "cell_type": "code",
   "execution_count": 32,
   "id": "c9d704fd",
   "metadata": {},
   "outputs": [
    {
     "name": "stdout",
     "output_type": "stream",
     "text": [
      "=== Accessing Array Elements in VARIANT ===\n",
      "\n"
     ]
    },
    {
     "data": {
      "application/vnd.jupyter.widget-view+json": {
       "model_id": "f7ba2e54c89c4d7ebea0ea0742fc859d",
       "version_major": 2,
       "version_minor": 0
      },
      "text/plain": [
       "HBox(children=(IntProgress(value=0, bar_style='success'), Label(value='')))"
      ]
     },
     "metadata": {},
     "output_type": "display_data"
    },
    {
     "name": "stdout",
     "output_type": "stream",
     "text": [
      "+------------------------------------+---------------+--------------+---------------+---------------+------------------------------------------------------------------------------------+\n",
      "|user_id                             |username       |first_interest|second_interest|total_interests|all_skills                                                                          |\n",
      "+------------------------------------+---------------+--------------+---------------+---------------+------------------------------------------------------------------------------------+\n",
      "|2f32f341-0ab8-4347-b998-6f31261d5843|williamrobinson|\"with\"        |NULL           |1              |[\"Programmer, systems\",\"Psychologist, clinical\"]                                    |\n",
      "|780ba3e9-1bf1-4a99-8a2b-9300e455f188|sandraharris   |\"small\"       |\"score\"        |3              |[\"Software engineer\"]                                                               |\n",
      "|9e2efb9b-a96a-4fd5-8f19-b2891db0a666|lcuevas        |\"political\"   |\"by\"           |4              |[\"Civil engineer, contracting\",\"Engineer, technical sales\",\"Database administrator\"]|\n",
      "|c6b4503d-5d54-4ce0-a22d-8827ee88e876|alicia28       |\"democratic\"  |\"this\"         |4              |[\"Intelligence analyst\",\"Field seismologist\"]                                       |\n",
      "|4287df02-8afe-490e-a2f0-723d46c92788|zhall          |\"tend\"        |\"everyone\"     |5              |[\"Information officer\",\"Corporate treasurer\"]                                       |\n",
      "+------------------------------------+---------------+--------------+---------------+---------------+------------------------------------------------------------------------------------+\n",
      "\n",
      "\n",
      "=== Exploding Arrays from VARIANT ===\n",
      "\n"
     ]
    },
    {
     "data": {
      "application/vnd.jupyter.widget-view+json": {
       "model_id": "d53245a1008941838718ccb5fac64445",
       "version_major": 2,
       "version_minor": 0
      },
      "text/plain": [
       "HBox(children=(IntProgress(value=0, bar_style='success'), Label(value='')))"
      ]
     },
     "metadata": {},
     "output_type": "display_data"
    },
    {
     "name": "stdout",
     "output_type": "stream",
     "text": [
      "+------------------------------------+---------------+----------+\n",
      "|user_id                             |username       |interest  |\n",
      "+------------------------------------+---------------+----------+\n",
      "|2f32f341-0ab8-4347-b998-6f31261d5843|williamrobinson|with      |\n",
      "|780ba3e9-1bf1-4a99-8a2b-9300e455f188|sandraharris   |small     |\n",
      "|780ba3e9-1bf1-4a99-8a2b-9300e455f188|sandraharris   |score     |\n",
      "|780ba3e9-1bf1-4a99-8a2b-9300e455f188|sandraharris   |many      |\n",
      "|9e2efb9b-a96a-4fd5-8f19-b2891db0a666|lcuevas        |political |\n",
      "|9e2efb9b-a96a-4fd5-8f19-b2891db0a666|lcuevas        |by        |\n",
      "|9e2efb9b-a96a-4fd5-8f19-b2891db0a666|lcuevas        |table     |\n",
      "|9e2efb9b-a96a-4fd5-8f19-b2891db0a666|lcuevas        |nice      |\n",
      "|c6b4503d-5d54-4ce0-a22d-8827ee88e876|alicia28       |democratic|\n",
      "|c6b4503d-5d54-4ce0-a22d-8827ee88e876|alicia28       |this      |\n",
      "+------------------------------------+---------------+----------+\n",
      "\n"
     ]
    }
   ],
   "source": [
    "# Accessing array elements within VARIANT\n",
    "print(\"=== Accessing Array Elements in VARIANT ===\\n\")\n",
    "\n",
    "spark.sql(\"\"\"\n",
    "    SELECT \n",
    "        user_id,\n",
    "        username,\n",
    "        user_data:profile:interests[0] as first_interest,\n",
    "        user_data:profile:interests[1] as second_interest,\n",
    "        SIZE(CAST(user_data:profile:interests AS ARRAY<STRING>)) as total_interests,\n",
    "        user_data:profile:skills as all_skills\n",
    "    FROM users_variant\n",
    "    WHERE user_data:profile:interests IS NOT NULL\n",
    "    LIMIT 5\n",
    "\"\"\").show(truncate=False)\n",
    "\n",
    "# Using EXPLODE with arrays in VARIANT\n",
    "print(\"\\n=== Exploding Arrays from VARIANT ===\\n\")\n",
    "\n",
    "spark.sql(\"\"\"\n",
    "    SELECT \n",
    "        user_id,\n",
    "        username,\n",
    "        interest\n",
    "    FROM users_variant\n",
    "    LATERAL VIEW EXPLODE(CAST(user_data:profile:interests AS ARRAY<STRING>)) AS interest\n",
    "    LIMIT 10\n",
    "\"\"\").show(truncate=False)\n"
   ]
  },
  {
   "cell_type": "markdown",
   "id": "0c78006e",
   "metadata": {},
   "source": [
    "## 5. Type Casting and Conversion with VARIANT\n",
    "\n",
    "VARIANT columns can be cast to specific types when needed.\n"
   ]
  },
  {
   "cell_type": "code",
   "execution_count": 33,
   "id": "330c3e37",
   "metadata": {},
   "outputs": [
    {
     "name": "stdout",
     "output_type": "stream",
     "text": [
      "=== Type Casting VARIANT Fields ===\n",
      "\n"
     ]
    },
    {
     "data": {
      "application/vnd.jupyter.widget-view+json": {
       "model_id": "8edb5225830141a8a1bab0a9b6b0edec",
       "version_major": 2,
       "version_minor": 0
      },
      "text/plain": [
       "HBox(children=(IntProgress(value=0, bar_style='success'), Label(value='')))"
      ]
     },
     "metadata": {},
     "output_type": "display_data"
    },
    {
     "name": "stdout",
     "output_type": "stream",
     "text": [
      "+--------------------+-----------+-------+--------------------+---------------+---------------+\n",
      "|             user_id|age_variant|age_int|   created_timestamp|newsletter_bool|login_count_int|\n",
      "+--------------------+-----------+-------+--------------------+---------------+---------------+\n",
      "|2f32f341-0ab8-434...|         42|     42|2023-03-04 01:53:...|          false|           NULL|\n",
      "|780ba3e9-1bf1-4a9...|         61|     61|2025-01-17 09:37:...|           true|           NULL|\n",
      "|9e2efb9b-a96a-4fd...|         25|     25|2024-03-20 20:51:...|           true|           NULL|\n",
      "|c6b4503d-5d54-4ce...|         68|     68|2024-11-10 07:58:...|           true|           NULL|\n",
      "|4287df02-8afe-490...|         40|     40|2024-05-18 01:47:...|           true|           NULL|\n",
      "+--------------------+-----------+-------+--------------------+---------------+---------------+\n",
      "\n",
      "\n",
      "=== Safe Casting with TRY_CAST ===\n",
      "\n"
     ]
    },
    {
     "data": {
      "application/vnd.jupyter.widget-view+json": {
       "model_id": "0bb13ad9c1ad49c18d889ba2fb0a7ff5",
       "version_major": 2,
       "version_minor": 0
      },
      "text/plain": [
       "HBox(children=(IntProgress(value=0, bar_style='success'), Label(value='')))"
      ]
     },
     "metadata": {},
     "output_type": "display_data"
    },
    {
     "name": "stdout",
     "output_type": "stream",
     "text": [
      "+--------------------+---+-----------------+-----------+--------------------+--------------------+\n",
      "|             user_id|age|subscription_date|posts_count|        phone_number|     last_login_time|\n",
      "+--------------------+---+-----------------+-----------+--------------------+--------------------+\n",
      "|2f32f341-0ab8-434...| 42|             NULL|       NULL|                NULL|2025-08-14 01:38:...|\n",
      "|780ba3e9-1bf1-4a9...| 61|             NULL|       NULL|                NULL|2025-08-30 19:33:...|\n",
      "|9e2efb9b-a96a-4fd...| 25|             NULL|       NULL|+1-444-385-7407x9383|2025-09-07 09:31:...|\n",
      "|c6b4503d-5d54-4ce...| 68|             NULL|       NULL|                NULL|2025-09-06 19:40:...|\n",
      "|4287df02-8afe-490...| 40|             NULL|       NULL|                NULL|2025-09-05 22:51:...|\n",
      "+--------------------+---+-----------------+-----------+--------------------+--------------------+\n",
      "\n"
     ]
    }
   ],
   "source": [
    "# Type casting VARIANT fields\n",
    "print(\"=== Type Casting VARIANT Fields ===\\n\")\n",
    "\n",
    "spark.sql(\"\"\"\n",
    "    SELECT \n",
    "        user_id,\n",
    "        user_data:age as age_variant,\n",
    "        CAST(user_data:age AS INT) as age_int,\n",
    "        CAST(user_data:created_at AS TIMESTAMP) as created_timestamp,\n",
    "        CAST(user_data:preferences:newsletter AS BOOLEAN) as newsletter_bool,\n",
    "        CAST(user_data:metrics:login_count AS INT) as login_count_int\n",
    "    FROM users_variant\n",
    "    LIMIT 5\n",
    "\"\"\").show()\n",
    "\n",
    "# Using TRY_CAST for safe casting (handles nulls gracefully)\n",
    "print(\"\\n=== Safe Casting with TRY_CAST ===\\n\")\n",
    "\n",
    "spark.sql(\"\"\"\n",
    "    SELECT \n",
    "        user_id,\n",
    "        TRY_CAST(user_data:age AS INT) as age,\n",
    "        TRY_CAST(user_data:subscription:start_date AS DATE) as subscription_date,\n",
    "        TRY_CAST(user_data:metrics:posts_created AS INT) as posts_count,\n",
    "        TRY_CAST(user_data:phone AS STRING) as phone_number,\n",
    "        TRY_CAST(user_data:last_login AS TIMESTAMP) as last_login_time\n",
    "    FROM users_variant\n",
    "    LIMIT 5\n",
    "\"\"\").show()\n"
   ]
  },
  {
   "cell_type": "markdown",
   "id": "7b48d029",
   "metadata": {},
   "source": [
    "## 6. VARIANT Functions and Operations\n",
    "\n",
    "Databricks provides several functions specifically for working with VARIANT data.\n"
   ]
  },
  {
   "cell_type": "code",
   "execution_count": 34,
   "id": "097d7806",
   "metadata": {},
   "outputs": [
    {
     "name": "stdout",
     "output_type": "stream",
     "text": [
      "=== Using VARIANT_GET Function ===\n",
      "\n"
     ]
    },
    {
     "data": {
      "application/vnd.jupyter.widget-view+json": {
       "model_id": "a4f66df04d46487aba68b894c668e2e9",
       "version_major": 2,
       "version_minor": 0
      },
      "text/plain": [
       "HBox(children=(IntProgress(value=0, bar_style='success'), Label(value='')))"
      ]
     },
     "metadata": {},
     "output_type": "display_data"
    },
    {
     "name": "stdout",
     "output_type": "stream",
     "text": [
      "+------------------------------------+---------------+---+----------------------------+-------------+\n",
      "|user_id                             |name           |age|interests                   |missing_field|\n",
      "+------------------------------------+---------------+---+----------------------------+-------------+\n",
      "|2f32f341-0ab8-4347-b998-6f31261d5843|Michael Ramirez|42 |[with]                      |NULL         |\n",
      "|780ba3e9-1bf1-4a99-8a2b-9300e455f188|Brian King     |61 |[small, score, many]        |NULL         |\n",
      "|9e2efb9b-a96a-4fd5-8f19-b2891db0a666|Justin Norris  |25 |[political, by, table, nice]|NULL         |\n",
      "+------------------------------------+---------------+---+----------------------------+-------------+\n",
      "\n"
     ]
    }
   ],
   "source": [
    "# VARIANT_GET function to safely extract values\n",
    "print(\"=== Using VARIANT_GET Function ===\\n\")\n",
    "\n",
    "spark.sql(\"\"\"\n",
    "    SELECT \n",
    "        user_id,\n",
    "        VARIANT_GET(user_data, '$.name', 'STRING') as name,\n",
    "        VARIANT_GET(user_data, '$.age', 'INT') as age,\n",
    "        VARIANT_GET(user_data, '$.profile.interests', 'ARRAY<STRING>') as interests,\n",
    "        VARIANT_GET(user_data, '$.non_existent_field', 'STRING') as missing_field\n",
    "    FROM users_variant\n",
    "    LIMIT 3\n",
    "\"\"\").show(truncate=False)\n"
   ]
  },
  {
   "cell_type": "code",
   "execution_count": 35,
   "id": "23a91cd5",
   "metadata": {},
   "outputs": [
    {
     "name": "stdout",
     "output_type": "stream",
     "text": [
      "=== Converting between VARIANT and JSON strings ===\n",
      "\n"
     ]
    },
    {
     "data": {
      "application/vnd.jupyter.widget-view+json": {
       "model_id": "1b65d3811a2c485e96a82fd38686d137",
       "version_major": 2,
       "version_minor": 0
      },
      "text/plain": [
       "HBox(children=(IntProgress(value=0, bar_style='success'), Label(value='')))"
      ]
     },
     "metadata": {},
     "output_type": "display_data"
    },
    {
     "name": "stdout",
     "output_type": "stream",
     "text": [
      "+------------------------------------+------------------------------------------------------------------------------------------------------------------------------------------------------------------------------------------------------------------------------------------------------------------------------------------------------------------------------------------------------------------------------------------------------------------------------------------------------------------------------------------------------------------------------------------------------------------------------------------------------------------------------------------------------------------------------------------------------------------------------------------------------------------------------------------------------------------------------------------------------------------------------------------------------------------------------------------------------------------------------------------------------------------------------------+-----------+-----------------------------------------------------------------------------------------------------------------------------------------------------------------------------------+\n",
      "|user_id                             |json_string                                                                                                                                                                                                                                                                                                                                                                                                                                                                                                                                                                                                                                                                                                                                                                                                                                                                                                                                                                                                                         |json_length|address_variant                                                                                                                                                                    |\n",
      "+------------------------------------+------------------------------------------------------------------------------------------------------------------------------------------------------------------------------------------------------------------------------------------------------------------------------------------------------------------------------------------------------------------------------------------------------------------------------------------------------------------------------------------------------------------------------------------------------------------------------------------------------------------------------------------------------------------------------------------------------------------------------------------------------------------------------------------------------------------------------------------------------------------------------------------------------------------------------------------------------------------------------------------------------------------------------------+-----------+-----------------------------------------------------------------------------------------------------------------------------------------------------------------------------------+\n",
      "|2f32f341-0ab8-4347-b998-6f31261d5843|{\"address\":{\"city\":\"New Ashley\",\"coordinates\":{\"latitude\":-29.547778,\"longitude\":-75.287629},\"country\":\"Costa Rica\",\"postal_code\":\"34256\",\"state\":\"Utah\",\"street\":\"4788 Wells Mall Suite 148\"},\"age\":42,\"created_at\":\"2023-03-04 01:53:53.918774\",\"email\":\"iferguson@example.com\",\"last_login\":\"2025-08-14 01:38:04.430378\",\"name\":\"Michael Ramirez\",\"preferences\":{\"newsletter\":false,\"notifications\":{\"email\":true,\"frequency\":\"daily\",\"push\":true,\"sms\":false},\"privacy\":{\"profile_visible\":true,\"show_email\":true,\"show_location\":true}},\"profile\":{\"bio\":\"Those bill light public should almost. Wonder ball unit hundred need life. Necessary since thought into. Each notice low size serious clear.\",\"company\":\"Andrews-Gonzalez\",\"interests\":[\"with\"],\"occupation\":\"Housing manager/officer\",\"skills\":[\"Programmer, systems\",\"Psychologist, clinical\"]},\"referral_code\":\"REF-1928-OqoE\",\"referred_by\":\"b46f0e67-226f-41a3-a870-787fdde2ea07\",\"user_id\":\"2f32f341-0ab8-4347-b998-6f31261d5843\",\"username\":\"williamrobinson\"}|996        |{\"city\":\"New Ashley\",\"coordinates\":{\"latitude\":-29.547778,\"longitude\":-75.287629},\"country\":\"Costa Rica\",\"postal_code\":\"34256\",\"state\":\"Utah\",\"street\":\"4788 Wells Mall Suite 148\"}|\n",
      "|780ba3e9-1bf1-4a99-8a2b-9300e455f188|{\"address\":{\"city\":\"Johnsonfort\",\"coordinates\":{\"latitude\":8.7816625,\"longitude\":67.574535},\"country\":\"Spain\",\"postal_code\":\"26948\",\"state\":\"California\",\"street\":\"9342 Shea Cove Apt. 009\"},\"age\":61,\"created_at\":\"2025-01-17 09:37:54.671332\",\"email\":\"pterry@example.net\",\"last_login\":\"2025-08-30 19:33:40.514731\",\"name\":\"Brian King\",\"preferences\":{\"newsletter\":true,\"notifications\":{\"email\":false,\"frequency\":\"never\",\"push\":true,\"sms\":true},\"privacy\":{\"profile_visible\":true,\"show_email\":false,\"show_location\":true}},\"profile\":{\"bio\":\"Fall improve nation manager could. Participant bed bill capital top decision.\\nSoon be much smile TV understand relate.\",\"company\":\"Harding-Hopkins\",\"interests\":[\"small\",\"score\",\"many\"],\"occupation\":\"Surveyor, rural practice\",\"skills\":[\"Software engineer\"]},\"user_id\":\"780ba3e9-1bf1-4a99-8a2b-9300e455f188\",\"username\":\"sandraharris\"}                                                                                                                                  |866        |{\"city\":\"Johnsonfort\",\"coordinates\":{\"latitude\":8.7816625,\"longitude\":67.574535},\"country\":\"Spain\",\"postal_code\":\"26948\",\"state\":\"California\",\"street\":\"9342 Shea Cove Apt. 009\"}  |\n",
      "+------------------------------------+------------------------------------------------------------------------------------------------------------------------------------------------------------------------------------------------------------------------------------------------------------------------------------------------------------------------------------------------------------------------------------------------------------------------------------------------------------------------------------------------------------------------------------------------------------------------------------------------------------------------------------------------------------------------------------------------------------------------------------------------------------------------------------------------------------------------------------------------------------------------------------------------------------------------------------------------------------------------------------------------------------------------------------+-----------+-----------------------------------------------------------------------------------------------------------------------------------------------------------------------------------+\n",
      "\n",
      "\n",
      "=== Discovering Schema of VARIANT Data ===\n",
      "\n"
     ]
    },
    {
     "data": {
      "application/vnd.jupyter.widget-view+json": {
       "model_id": "03cdc6e993c44a3990488e5e36515771",
       "version_major": 2,
       "version_minor": 0
      },
      "text/plain": [
       "HBox(children=(IntProgress(value=0, bar_style='success'), Label(value='')))"
      ]
     },
     "metadata": {},
     "output_type": "display_data"
    },
    {
     "name": "stdout",
     "output_type": "stream",
     "text": [
      "+----------------------------------------------------------------------------------------------------------------------------------------------------------------------------------------------------------------------------------------------------------------------------------------------------------------------------------------------------------------------------------------------------------------------------------------------------------------------------------------------------------------------------------------------------------------------------------------------------------------------------------------------------------------------------------------------+\n",
      "|inferred_schema                                                                                                                                                                                                                                                                                                                                                                                                                                                                                                                                                                                                                                                                               |\n",
      "+----------------------------------------------------------------------------------------------------------------------------------------------------------------------------------------------------------------------------------------------------------------------------------------------------------------------------------------------------------------------------------------------------------------------------------------------------------------------------------------------------------------------------------------------------------------------------------------------------------------------------------------------------------------------------------------------+\n",
      "|OBJECT<address: OBJECT<city: STRING, coordinates: OBJECT<latitude: DECIMAL(8,6), longitude: DECIMAL(8,6)>, country: STRING, postal_code: STRING, state: STRING, street: STRING>, age: BIGINT, created_at: STRING, email: STRING, last_login: STRING, name: STRING, preferences: OBJECT<newsletter: BOOLEAN, notifications: OBJECT<email: BOOLEAN, frequency: STRING, push: BOOLEAN, sms: BOOLEAN>, privacy: OBJECT<profile_visible: BOOLEAN, show_email: BOOLEAN, show_location: BOOLEAN>>, profile: OBJECT<bio: STRING, company: STRING, interests: ARRAY<STRING>, occupation: STRING, skills: ARRAY<STRING>>, referral_code: STRING, referred_by: STRING, user_id: STRING, username: STRING>|\n",
      "|OBJECT<address: OBJECT<city: STRING, coordinates: OBJECT<latitude: DECIMAL(8,7), longitude: DECIMAL(8,6)>, country: STRING, postal_code: STRING, state: STRING, street: STRING>, age: BIGINT, created_at: STRING, email: STRING, last_login: STRING, name: STRING, preferences: OBJECT<newsletter: BOOLEAN, notifications: OBJECT<email: BOOLEAN, frequency: STRING, push: BOOLEAN, sms: BOOLEAN>, privacy: OBJECT<profile_visible: BOOLEAN, show_email: BOOLEAN, show_location: BOOLEAN>>, profile: OBJECT<bio: STRING, company: STRING, interests: ARRAY<STRING>, occupation: STRING, skills: ARRAY<STRING>>, user_id: STRING, username: STRING>                                            |\n",
      "|OBJECT<address: OBJECT<city: STRING, coordinates: OBJECT<latitude: DECIMAL(7,6), longitude: DECIMAL(9,6)>, country: STRING, postal_code: STRING, state: STRING, street: STRING>, age: BIGINT, created_at: STRING, email: STRING, last_login: STRING, name: STRING, phone: STRING, preferences: OBJECT<newsletter: BOOLEAN, notifications: OBJECT<email: BOOLEAN, frequency: STRING, push: BOOLEAN, sms: BOOLEAN>, privacy: OBJECT<profile_visible: BOOLEAN, show_email: BOOLEAN, show_location: BOOLEAN>>, profile: OBJECT<bio: STRING, company: STRING, interests: ARRAY<STRING>, occupation: STRING, skills: ARRAY<STRING>>, user_id: STRING, username: STRING>                             |\n",
      "|OBJECT<address: OBJECT<city: STRING, coordinates: OBJECT<latitude: DECIMAL(9,7), longitude: DECIMAL(8,6)>, country: STRING, postal_code: STRING, state: STRING, street: STRING>, age: BIGINT, created_at: STRING, email: STRING, last_login: STRING, name: STRING, preferences: OBJECT<newsletter: BOOLEAN, notifications: OBJECT<email: BOOLEAN, frequency: STRING, push: BOOLEAN, sms: BOOLEAN>, privacy: OBJECT<profile_visible: BOOLEAN, show_email: BOOLEAN, show_location: BOOLEAN>>, profile: OBJECT<bio: STRING, company: STRING, interests: ARRAY<STRING>, occupation: STRING, skills: ARRAY<STRING>>, user_id: STRING, username: STRING>                                            |\n",
      "|OBJECT<address: OBJECT<city: STRING, coordinates: OBJECT<latitude: DECIMAL(9,7), longitude: DECIMAL(8,6)>, country: STRING, postal_code: STRING, state: STRING, street: STRING>, age: BIGINT, created_at: STRING, email: STRING, last_login: STRING, name: STRING, preferences: OBJECT<newsletter: BOOLEAN, notifications: OBJECT<email: BOOLEAN, frequency: STRING, push: BOOLEAN, sms: BOOLEAN>, privacy: OBJECT<profile_visible: BOOLEAN, show_email: BOOLEAN, show_location: BOOLEAN>>, profile: OBJECT<bio: STRING, company: STRING, interests: ARRAY<STRING>, occupation: STRING, skills: ARRAY<STRING>>, referral_code: STRING, referred_by: VOID, user_id: STRING, username: STRING>  |\n",
      "+----------------------------------------------------------------------------------------------------------------------------------------------------------------------------------------------------------------------------------------------------------------------------------------------------------------------------------------------------------------------------------------------------------------------------------------------------------------------------------------------------------------------------------------------------------------------------------------------------------------------------------------------------------------------------------------------+\n",
      "\n"
     ]
    }
   ],
   "source": [
    "# TO_JSON and FROM_JSON functions\n",
    "print(\"=== Converting between VARIANT and JSON strings ===\\n\")\n",
    "\n",
    "spark.sql(\"\"\"\n",
    "    SELECT \n",
    "        user_id,\n",
    "        TO_JSON(user_data) as json_string,\n",
    "        LENGTH(TO_JSON(user_data)) as json_length,\n",
    "        PARSE_JSON(TO_JSON(user_data:address)) as address_variant\n",
    "    FROM users_variant\n",
    "    LIMIT 2\n",
    "\"\"\").show(truncate=False)\n",
    "\n",
    "# SCHEMA_OF_VARIANT to discover schema\n",
    "print(\"\\n=== Discovering Schema of VARIANT Data ===\\n\")\n",
    "\n",
    "spark.sql(\"\"\"\n",
    "    SELECT \n",
    "        SCHEMA_OF_VARIANT(user_data) as inferred_schema\n",
    "    FROM users_variant\n",
    "    GROUP BY SCHEMA_OF_VARIANT(user_data)\n",
    "    LIMIT 5\n",
    "\"\"\").show(truncate=False)\n"
   ]
  },
  {
   "cell_type": "markdown",
   "id": "508a4019",
   "metadata": {},
   "source": [
    "## 7. Filtering and Conditional Logic with VARIANT\n",
    "\n",
    "Let's explore how to filter and apply conditions on VARIANT data.\n"
   ]
  },
  {
   "cell_type": "code",
   "execution_count": 36,
   "id": "440d7502",
   "metadata": {},
   "outputs": [
    {
     "name": "stdout",
     "output_type": "stream",
     "text": [
      "=== Filtering on VARIANT Fields ===\n",
      "\n"
     ]
    },
    {
     "data": {
      "application/vnd.jupyter.widget-view+json": {
       "model_id": "4ee6cbd8131d46ddac580cfb7a734dca",
       "version_major": 2,
       "version_minor": 0
      },
      "text/plain": [
       "HBox(children=(IntProgress(value=0, bar_style='success'), Label(value='')))"
      ]
     },
     "metadata": {},
     "output_type": "display_data"
    },
    {
     "name": "stdout",
     "output_type": "stream",
     "text": [
      "+--------------------+-------------------+---+------------+\n",
      "|             user_id|               name|age|     country|\n",
      "+--------------------+-------------------+---+------------+\n",
      "|780ba3e9-1bf1-4a9...|       \"Brian King\"| 61|     \"Spain\"|\n",
      "|c6b4503d-5d54-4ce...|     \"David Kelley\"| 68|   \"Ireland\"|\n",
      "|4287df02-8afe-490...|\"Michael Gutierrez\"| 40|    \"Panama\"|\n",
      "|c61259c3-6c71-469...|     \"Donald Brown\"| 49|\"Luxembourg\"|\n",
      "|4157a9bf-1844-4ac...|        \"Randy Liu\"| 52|  \"Thailand\"|\n",
      "+--------------------+-------------------+---+------------+\n",
      "\n",
      "\n",
      "=== Complex Filtering with Nested VARIANT Fields ===\n",
      "\n"
     ]
    },
    {
     "data": {
      "application/vnd.jupyter.widget-view+json": {
       "model_id": "5e420e5b928d4c878f0e5dc9c9284cf5",
       "version_major": 2,
       "version_minor": 0
      },
      "text/plain": [
       "HBox(children=(IntProgress(value=0, bar_style='success'), Label(value='')))"
      ]
     },
     "metadata": {},
     "output_type": "display_data"
    },
    {
     "name": "stdout",
     "output_type": "stream",
     "text": [
      "+--------------------+--------------------+---+-----------------+-----------+\n",
      "|             user_id|                name|age|subscription_tier|login_count|\n",
      "+--------------------+--------------------+---+-----------------+-----------+\n",
      "|7d26c162-5792-4df...|\"Christine Chavez...| 59|            basic|       1000|\n",
      "|6a89e579-15a0-49d...|    \"Sherri Johnson\"| 31|            basic|        997|\n",
      "|2334a5ed-3999-451...|        \"Jay Santos\"| 56|             free|        990|\n",
      "|b70c1a9f-282a-4e7...|      \"Brent French\"| 58|       enterprise|        989|\n",
      "|e4324599-e0aa-41b...|       \"Mary Garcia\"| 55|            basic|        988|\n",
      "+--------------------+--------------------+---+-----------------+-----------+\n",
      "\n"
     ]
    }
   ],
   "source": [
    "# Filtering based on VARIANT field values\n",
    "print(\"=== Filtering on VARIANT Fields ===\\n\")\n",
    "\n",
    "spark.sql(\"\"\"\n",
    "    SELECT \n",
    "        user_id,\n",
    "        user_data:name as name,\n",
    "        user_data:age as age,\n",
    "        user_data:address:country as country\n",
    "    FROM users_variant\n",
    "    WHERE CAST(user_data:age AS INT) > 30\n",
    "        AND CAST(user_data:preferences:newsletter AS BOOLEAN) = true\n",
    "        AND user_data:address:country IS NOT NULL\n",
    "    LIMIT 5\n",
    "\"\"\").show()\n",
    "\n",
    "# Complex filtering with nested conditions\n",
    "print(\"\\n=== Complex Filtering with Nested VARIANT Fields ===\\n\")\n",
    "\n",
    "spark.sql(\"\"\"\n",
    "    SELECT \n",
    "        user_id,\n",
    "        user_data:name as name,\n",
    "        user_data:age as age,\n",
    "        CAST(user_data:subscription:tier AS STRING) as subscription_tier,\n",
    "        user_data:metrics:login_count as login_count\n",
    "    FROM users_variant\n",
    "    WHERE user_data:subscription:tier IS NOT NULL\n",
    "        AND user_data:metrics:login_count IS NOT NULL\n",
    "        AND CAST(user_data:age AS INT) BETWEEN 25 AND 60\n",
    "        AND CAST(user_data:metrics:login_count AS INT) > 10\n",
    "    ORDER BY CAST(user_data:metrics:login_count AS INT) DESC\n",
    "    LIMIT 5\n",
    "\"\"\").show()\n"
   ]
  },
  {
   "cell_type": "code",
   "execution_count": 37,
   "id": "992303e8",
   "metadata": {},
   "outputs": [
    {
     "name": "stdout",
     "output_type": "stream",
     "text": [
      "=== CASE Statements with VARIANT ===\n",
      "\n"
     ]
    },
    {
     "data": {
      "application/vnd.jupyter.widget-view+json": {
       "model_id": "7b9a025b214e4abcbd9ec007190b84e7",
       "version_major": 2,
       "version_minor": 0
      },
      "text/plain": [
       "HBox(children=(IntProgress(value=0, bar_style='success'), Label(value='')))"
      ]
     },
     "metadata": {},
     "output_type": "display_data"
    },
    {
     "name": "stdout",
     "output_type": "stream",
     "text": [
      "+------------------------------------+-------------------+---+-----------------+---------+---------------+\n",
      "|user_id                             |name               |age|subscription_tier|age_group|user_category  |\n",
      "+------------------------------------+-------------------+---+-----------------+---------+---------------+\n",
      "|2f32f341-0ab8-4347-b998-6f31261d5843|\"Michael Ramirez\"  |42 |NULL             |Adult    |No Subscription|\n",
      "|780ba3e9-1bf1-4a99-8a2b-9300e455f188|\"Brian King\"       |61 |NULL             |Senior   |No Subscription|\n",
      "|9e2efb9b-a96a-4fd5-8f19-b2891db0a666|\"Justin Norris\"    |25 |NULL             |Adult    |No Subscription|\n",
      "|c6b4503d-5d54-4ce0-a22d-8827ee88e876|\"David Kelley\"     |68 |NULL             |Senior   |No Subscription|\n",
      "|4287df02-8afe-490e-a2f0-723d46c92788|\"Michael Gutierrez\"|40 |NULL             |Adult    |No Subscription|\n",
      "|c609f778-6bb1-467c-ad63-ad7411c9c749|\"Kevin Daniel\"     |28 |NULL             |Adult    |No Subscription|\n",
      "|c61259c3-6c71-4694-8598-37f7ab1635a4|\"Donald Brown\"     |49 |NULL             |Adult    |No Subscription|\n",
      "|aaa7990b-5411-4e5f-b69d-5dd5e4975268|\"Marcus Green\"     |20 |NULL             |Young    |No Subscription|\n",
      "|fff57d24-8908-4bd7-a1bc-555f2f4ee900|\"Kevin Mcdowell\"   |42 |NULL             |Adult    |No Subscription|\n",
      "|4157a9bf-1844-4ac0-9064-1ce1332b43c6|\"Randy Liu\"        |52 |NULL             |Senior   |No Subscription|\n",
      "+------------------------------------+-------------------+---+-----------------+---------+---------------+\n",
      "\n"
     ]
    }
   ],
   "source": [
    "# Using CASE statements with VARIANT\n",
    "print(\"=== CASE Statements with VARIANT ===\\n\")\n",
    "\n",
    "spark.sql(\"\"\"\n",
    "    SELECT \n",
    "        user_id,\n",
    "        user_data:name as name,\n",
    "        user_data:age as age,\n",
    "        CAST(user_data:subscription:tier AS STRING) as subscription_tier,\n",
    "        CASE \n",
    "            WHEN CAST(user_data:age AS INT) < 25 THEN 'Young'\n",
    "            WHEN CAST(user_data:age AS INT) BETWEEN 25 AND 50 THEN 'Adult'\n",
    "            WHEN CAST(user_data:age AS INT) > 50 THEN 'Senior'\n",
    "            ELSE 'Unknown'\n",
    "        END as age_group,\n",
    "        CASE \n",
    "            WHEN CAST(user_data:subscription:tier AS STRING) = 'free' THEN 'Free User'\n",
    "            WHEN CAST(user_data:subscription:tier AS STRING) = 'basic' THEN 'Basic User'\n",
    "            WHEN CAST(user_data:subscription:tier AS STRING) = 'premium' THEN 'Premium User'\n",
    "            WHEN CAST(user_data:subscription:tier AS STRING) = 'enterprise' THEN 'Enterprise User'\n",
    "            ELSE 'No Subscription'\n",
    "        END as user_category\n",
    "    FROM users_variant\n",
    "    LIMIT 10\n",
    "\"\"\").show(truncate=False)\n"
   ]
  },
  {
   "cell_type": "markdown",
   "id": "bf45a4fa",
   "metadata": {},
   "source": [
    "## 8. Aggregations with VARIANT Data\n",
    "\n",
    "Performing aggregations on data stored in VARIANT columns.\n"
   ]
  },
  {
   "cell_type": "code",
   "execution_count": 38,
   "id": "143ffd8e",
   "metadata": {},
   "outputs": [
    {
     "name": "stdout",
     "output_type": "stream",
     "text": [
      "=== Aggregations on VARIANT Data ===\n",
      "\n"
     ]
    },
    {
     "data": {
      "application/vnd.jupyter.widget-view+json": {
       "model_id": "bd08b9de133b4e3d8b3120b5b92583a4",
       "version_major": 2,
       "version_minor": 0
      },
      "text/plain": [
       "HBox(children=(IntProgress(value=0, bar_style='success'), Label(value='')))"
      ]
     },
     "metadata": {},
     "output_type": "display_data"
    },
    {
     "name": "stdout",
     "output_type": "stream",
     "text": [
      "+----------+-------+-------+-------+\n",
      "|user_count|avg_age|min_age|max_age|\n",
      "+----------+-------+-------+-------+\n",
      "|      1000| 49.136|     18|     80|\n",
      "+----------+-------+-------+-------+\n",
      "\n",
      "\n",
      "=== Subscription Tier Aggregations ===\n",
      "\n"
     ]
    },
    {
     "data": {
      "application/vnd.jupyter.widget-view+json": {
       "model_id": "45f27de115f54aafb4837682fafe20f2",
       "version_major": 2,
       "version_minor": 0
      },
      "text/plain": [
       "HBox(children=(IntProgress(value=0, bar_style='success'), Label(value='')))"
      ]
     },
     "metadata": {},
     "output_type": "display_data"
    },
    {
     "name": "stdout",
     "output_type": "stream",
     "text": [
      "+-----------------+----------+------------------+------------------+------------------+\n",
      "|subscription_tier|user_count|           avg_age|   avg_login_count|         avg_posts|\n",
      "+-----------------+----------+------------------+------------------+------------------+\n",
      "|             free|       109|  49.6605504587156|471.42201834862385| 260.3302752293578|\n",
      "|          premium|       106|46.339622641509436|504.95283018867923| 231.5188679245283|\n",
      "|       enterprise|        95|48.357894736842105|505.22105263157897|252.14736842105262|\n",
      "|            basic|        89| 51.41573033707865| 523.8539325842696|248.86516853932585|\n",
      "+-----------------+----------+------------------+------------------+------------------+\n",
      "\n"
     ]
    }
   ],
   "source": [
    "# Aggregating VARIANT data\n",
    "print(\"=== Aggregations on VARIANT Data ===\\n\")\n",
    "\n",
    "spark.sql(\"\"\"\n",
    "    SELECT \n",
    "        COUNT(*) as user_count,\n",
    "        AVG(CAST(user_data:age AS INT)) as avg_age,\n",
    "        MIN(CAST(user_data:age AS INT)) as min_age,\n",
    "        MAX(CAST(user_data:age AS INT)) as max_age\n",
    "    FROM users_variant\n",
    "\"\"\").show()\n",
    "\n",
    "# Aggregating by subscription tier\n",
    "print(\"\\n=== Subscription Tier Aggregations ===\\n\")\n",
    "\n",
    "spark.sql(\"\"\"\n",
    "    SELECT \n",
    "        CAST(user_data:subscription:tier AS STRING) as subscription_tier,\n",
    "        COUNT(*) as user_count,\n",
    "        AVG(CAST(user_data:age AS INT)) as avg_age,\n",
    "        AVG(CAST(user_data:metrics:login_count AS INT)) as avg_login_count,\n",
    "        AVG(CAST(user_data:metrics:posts_created AS INT)) as avg_posts\n",
    "    FROM users_variant\n",
    "    WHERE user_data:subscription:tier IS NOT NULL\n",
    "    GROUP BY CAST(user_data:subscription:tier AS STRING)\n",
    "    ORDER BY user_count DESC\n",
    "\"\"\").show()\n"
   ]
  },
  {
   "cell_type": "code",
   "execution_count": 39,
   "id": "7b16bb97",
   "metadata": {},
   "outputs": [
    {
     "name": "stdout",
     "output_type": "stream",
     "text": [
      "=== Aggregating Array Data in VARIANT ===\n",
      "\n"
     ]
    },
    {
     "data": {
      "application/vnd.jupyter.widget-view+json": {
       "model_id": "e24598bd66ff4774bce8d4b189b1c7e0",
       "version_major": 2,
       "version_minor": 0
      },
      "text/plain": [
       "HBox(children=(IntProgress(value=0, bar_style='success'), Label(value='')))"
      ]
     },
     "metadata": {},
     "output_type": "display_data"
    },
    {
     "name": "stdout",
     "output_type": "stream",
     "text": [
      "+----------------------+-------------+-------------+\n",
      "|avg_interests_per_user|max_interests|min_interests|\n",
      "+----------------------+-------------+-------------+\n",
      "|                 2.961|            5|            1|\n",
      "+----------------------+-------------+-------------+\n",
      "\n",
      "\n",
      "=== Skills Aggregation ===\n",
      "\n"
     ]
    },
    {
     "data": {
      "application/vnd.jupyter.widget-view+json": {
       "model_id": "659216eb1ced431ca89800b6431882dd",
       "version_major": 2,
       "version_minor": 0
      },
      "text/plain": [
       "HBox(children=(IntProgress(value=0, bar_style='success'), Label(value='')))"
      ]
     },
     "metadata": {},
     "output_type": "display_data"
    },
    {
     "name": "stdout",
     "output_type": "stream",
     "text": [
      "+-----------------+-------------------+----------+----------+\n",
      "|users_with_skills|avg_skills_per_user|max_skills|min_skills|\n",
      "+-----------------+-------------------+----------+----------+\n",
      "|             1000|              1.589|         3|         0|\n",
      "+-----------------+-------------------+----------+----------+\n",
      "\n"
     ]
    }
   ],
   "source": [
    "# Complex aggregations with array data\n",
    "print(\"=== Aggregating Array Data in VARIANT ===\\n\")\n",
    "\n",
    "spark.sql(\"\"\"\n",
    "    SELECT \n",
    "        AVG(SIZE(CAST(user_data:profile:interests AS ARRAY<STRING>))) as avg_interests_per_user,\n",
    "        MAX(SIZE(CAST(user_data:profile:interests AS ARRAY<STRING>))) as max_interests,\n",
    "        MIN(SIZE(CAST(user_data:profile:interests AS ARRAY<STRING>))) as min_interests\n",
    "    FROM users_variant\n",
    "    WHERE user_data:profile:interests IS NOT NULL\n",
    "\"\"\").show()\n",
    "\n",
    "# Aggregating skills data\n",
    "print(\"\\n=== Skills Aggregation ===\\n\")\n",
    "\n",
    "spark.sql(\"\"\"\n",
    "    WITH user_skills AS (\n",
    "        SELECT \n",
    "            user_id,\n",
    "            user_data:name as name,\n",
    "            SIZE(CAST(user_data:profile:skills AS ARRAY<STRING>)) as skill_count,\n",
    "            user_data:profile:skills as skills\n",
    "        FROM users_variant\n",
    "        WHERE user_data:profile:skills IS NOT NULL\n",
    "    )\n",
    "    SELECT \n",
    "        COUNT(*) as users_with_skills,\n",
    "        AVG(skill_count) as avg_skills_per_user,\n",
    "        MAX(skill_count) as max_skills,\n",
    "        MIN(skill_count) as min_skills\n",
    "    FROM user_skills\n",
    "\"\"\").show()\n"
   ]
  },
  {
   "cell_type": "markdown",
   "id": "c6682116",
   "metadata": {},
   "source": [
    "## 9. Window Functions with VARIANT\n",
    "\n",
    "Using window functions to analyze VARIANT data.\n"
   ]
  },
  {
   "cell_type": "code",
   "execution_count": 40,
   "id": "b1d6bcc5",
   "metadata": {},
   "outputs": [
    {
     "name": "stdout",
     "output_type": "stream",
     "text": [
      "=== Window Functions on VARIANT Data ===\n",
      "\n"
     ]
    },
    {
     "data": {
      "application/vnd.jupyter.widget-view+json": {
       "model_id": "97dade5051164b5690c2e4c68ee59b03",
       "version_major": 2,
       "version_minor": 0
      },
      "text/plain": [
       "HBox(children=(IntProgress(value=0, bar_style='success'), Label(value='')))"
      ]
     },
     "metadata": {},
     "output_type": "display_data"
    },
    {
     "name": "stdout",
     "output_type": "stream",
     "text": [
      "+------------------------------------+--------------------+---+--------------------------------------------+-----------+-------------------+----------+------------------+\n",
      "|user_id                             |name                |age|country                                     |login_count|age_rank_in_country|login_rank|country_avg_age   |\n",
      "+------------------------------------+--------------------+---+--------------------------------------------+-----------+-------------------+----------+------------------+\n",
      "|5b511eeb-a2cf-466a-912a-2ae4c0259af7|\"Katherine Wells\"   |59 |Afghanistan                                 |895        |1                  |35        |57.0              |\n",
      "|e4324599-e0aa-41b8-8394-6d7dc42cbb5e|\"Mary Garcia\"       |55 |Afghanistan                                 |988        |2                  |5         |57.0              |\n",
      "|ab853645-3e42-4140-a8fe-8f1470bfd2cc|\"Kim Zhang\"         |71 |Algeria                                     |500        |1                  |160       |46.5              |\n",
      "|46796c58-9dc3-42e3-868e-89b05f28c1e3|\"Justin Salas\"      |22 |Algeria                                     |881        |2                  |40        |46.5              |\n",
      "|a5344a03-f07e-4f47-8595-44aa63095088|\"Jennifer Williams\" |62 |American Samoa                              |350        |1                  |207       |47.0              |\n",
      "|348d761a-2d9d-49cd-9d9d-cb54b68eb974|\"Carol Brown\"       |47 |American Samoa                              |61         |2                  |296       |47.0              |\n",
      "|46f69deb-3d20-4579-83af-a6d9303bee0e|\"Amanda Cruz\"       |32 |American Samoa                              |770        |3                  |75        |47.0              |\n",
      "|0143e02d-207c-417d-bec0-43e962f81e7b|\"Morgan Snyder\"     |38 |Andorra                                     |86         |1                  |284       |38.0              |\n",
      "|e91fd161-e2da-42ec-9ef3-87553b8affa7|\"James Shepherd\"    |56 |Angola                                      |822        |1                  |57        |56.0              |\n",
      "|c943c8e0-b941-413d-9a07-f44996dc88b2|\"Todd Bryant\"       |56 |Angola                                      |660        |1                  |106       |56.0              |\n",
      "|5419e39b-3aee-4f0b-8a2c-ad783bd34660|\"Megan Sanders\"     |78 |Antarctica (the territory South of 60 deg S)|772        |1                  |74        |51.666666666666664|\n",
      "|90739762-07ba-4098-a088-7c6006e71513|\"Christopher Arnold\"|45 |Antarctica (the territory South of 60 deg S)|48         |2                  |304       |51.666666666666664|\n",
      "|051bf607-7672-4649-ae49-b66c109ef137|\"Erin Acosta\"       |32 |Antarctica (the territory South of 60 deg S)|975        |3                  |11        |51.666666666666664|\n",
      "|4b7cea00-88c2-4a13-83b5-fac4d26d4830|\"Rebecca Sandoval\"  |78 |Antigua and Barbuda                         |583        |1                  |130       |52.5              |\n",
      "|a6ffc346-99b2-4cd5-b383-46aea6261f11|\"Phillip Mitchell\"  |58 |Antigua and Barbuda                         |196        |2                  |245       |52.5              |\n",
      "+------------------------------------+--------------------+---+--------------------------------------------+-----------+-------------------+----------+------------------+\n",
      "\n",
      "\n",
      "=== Cumulative Statistics with VARIANT ===\n",
      "\n"
     ]
    },
    {
     "data": {
      "application/vnd.jupyter.widget-view+json": {
       "model_id": "2a022db9c52c49b4ba03d3f559df459d",
       "version_major": 2,
       "version_minor": 0
      },
      "text/plain": [
       "HBox(children=(IntProgress(value=0, bar_style='success'), Label(value='')))"
      ]
     },
     "metadata": {},
     "output_type": "display_data"
    },
    {
     "name": "stdout",
     "output_type": "stream",
     "text": [
      "+------------------------------------+---------------------+--------------------------+-----------+-------------+-----------------+-----------------+\n",
      "|user_id                             |name                 |created_time              |login_count|posts_created|moving_avg_logins|max_logins_so_far|\n",
      "+------------------------------------+---------------------+--------------------------+-----------+-------------+-----------------+-----------------+\n",
      "|ff1ca944-a27a-4b26-87a7-ed9ba3f14323|\"Michael Lee\"        |2020-09-10 08:28:31.271972|694        |374          |694.0            |694              |\n",
      "|5b511eeb-a2cf-466a-912a-2ae4c0259af7|\"Katherine Wells\"    |2020-09-13 11:47:27.943506|895        |312          |794.5            |895              |\n",
      "|561a6e6d-4b85-4066-bcab-0bd3cf97298e|\"Stephen Nelson\"     |2020-09-14 15:07:56.112103|843        |306          |810.6666666666666|895              |\n",
      "|0318a299-8c1a-4ee4-93ea-4465f4ab33d7|\"Evan Murphy\"        |2020-09-16 12:26:20.894163|707        |112          |815.0            |895              |\n",
      "|e5932c65-7d72-4e79-8bf1-d444034901bf|\"Robert Riddle\"      |2020-09-28 11:38:15.189913|816        |32           |788.6666666666666|895              |\n",
      "|ccae96fe-78a9-4ef0-8721-627e9547a3c7|\"Diana Morgan\"       |2020-09-30 11:51:52.621452|835        |471          |786.0            |895              |\n",
      "|36536eb9-5c14-44fa-b812-a4bff5356595|\"Christine Rodriguez\"|2020-10-06 02:57:54.501977|483        |279          |711.3333333333334|895              |\n",
      "|db639eb3-cf19-4e00-925a-1cb121f5d4c2|\"Amanda Howard\"      |2020-10-09 06:58:07.550151|62         |378          |460.0            |895              |\n",
      "|510d5811-6323-43ad-a884-2cde2e070913|\"Erin Silva\"         |2020-10-17 01:21:32.575354|709        |371          |418.0            |895              |\n",
      "|7c3af66c-f97d-4e23-80c0-bddbd728bd72|\"Breanna Wilson\"     |2020-10-28 05:12:22.996491|595        |82           |455.3333333333333|895              |\n",
      "+------------------------------------+---------------------+--------------------------+-----------+-------------+-----------------+-----------------+\n",
      "\n"
     ]
    }
   ],
   "source": [
    "# Window functions with VARIANT data\n",
    "print(\"=== Window Functions on VARIANT Data ===\\n\")\n",
    "\n",
    "spark.sql(\"\"\"\n",
    "    SELECT \n",
    "        user_id,\n",
    "        user_data:name as name,\n",
    "        user_data:age as age,\n",
    "        CAST(user_data:address:country AS STRING) as country,\n",
    "        CAST(user_data:metrics:login_count AS INT) as login_count,\n",
    "        RANK() OVER (PARTITION BY CAST(user_data:address:country AS STRING) ORDER BY CAST(user_data:age AS INT) DESC) as age_rank_in_country,\n",
    "        DENSE_RANK() OVER (ORDER BY CAST(user_data:metrics:login_count AS INT) DESC) as login_rank,\n",
    "        AVG(CAST(user_data:age AS INT)) OVER (PARTITION BY CAST(user_data:address:country AS STRING)) as country_avg_age\n",
    "    FROM users_variant\n",
    "    WHERE user_data:metrics:login_count IS NOT NULL\n",
    "        AND user_data:address:country IS NOT NULL\n",
    "    ORDER BY country, age_rank_in_country\n",
    "    LIMIT 15\n",
    "\"\"\").show(truncate=False)\n",
    "\n",
    "# Running totals and cumulative stats\n",
    "print(\"\\n=== Cumulative Statistics with VARIANT ===\\n\")\n",
    "\n",
    "spark.sql(\"\"\"\n",
    "    WITH user_activity AS (\n",
    "        SELECT \n",
    "            user_id,\n",
    "            user_data:name as name,\n",
    "            CAST(user_data:created_at AS TIMESTAMP) as created_time,\n",
    "            CAST(user_data:metrics:login_count AS INT) as login_count,\n",
    "            CAST(user_data:metrics:posts_created AS INT) as posts_created\n",
    "        FROM users_variant\n",
    "        WHERE user_data:metrics:login_count IS NOT NULL\n",
    "            AND user_data:created_at IS NOT NULL\n",
    "    )\n",
    "    SELECT \n",
    "        user_id,\n",
    "        name,\n",
    "        created_time,\n",
    "        login_count,\n",
    "        posts_created,\n",
    "        AVG(login_count) OVER (\n",
    "            ORDER BY created_time \n",
    "            ROWS BETWEEN 2 PRECEDING AND CURRENT ROW\n",
    "        ) as moving_avg_logins,\n",
    "        MAX(login_count) OVER (\n",
    "            ORDER BY created_time\n",
    "        ) as max_logins_so_far\n",
    "    FROM user_activity\n",
    "    ORDER BY created_time\n",
    "    LIMIT 10\n",
    "\"\"\").show(truncate=False)\n"
   ]
  },
  {
   "cell_type": "markdown",
   "id": "d57b5872",
   "metadata": {},
   "source": [
    "## 10. JOINs with VARIANT Data\n",
    "\n",
    "Demonstrating how to join tables containing VARIANT columns.\n"
   ]
  },
  {
   "cell_type": "code",
   "execution_count": 41,
   "id": "92a69c12",
   "metadata": {},
   "outputs": [
    {
     "name": "stdout",
     "output_type": "stream",
     "text": [
      "=== Self-Join on VARIANT Data ===\n",
      "\n"
     ]
    },
    {
     "data": {
      "application/vnd.jupyter.widget-view+json": {
       "model_id": "ca81f8305c974cf7ba3aa49e218b4cad",
       "version_major": 2,
       "version_minor": 0
      },
      "text/plain": [
       "HBox(children=(IntProgress(value=0, bar_style='success'), Label(value='')))"
      ]
     },
     "metadata": {},
     "output_type": "display_data"
    },
    {
     "name": "stdout",
     "output_type": "stream",
     "text": [
      "+------------------------------------+------------------+--------------+------------------------------------+-------------------+--------------+\n",
      "|user1_id                            |user1_name        |user1_city    |user2_id                            |user2_name         |user2_city    |\n",
      "+------------------------------------+------------------+--------------+------------------------------------+-------------------+--------------+\n",
      "|1889ff37-accf-464c-81f3-93491676440d|\"Jamie Sanchez\"   |Johnsonfort   |780ba3e9-1bf1-4a99-8a2b-9300e455f188|\"Brian King\"       |Johnsonfort   |\n",
      "|08eabf05-6243-4f3b-86e8-c4598880c65a|\"Julie Taylor\"    |West Elizabeth|4287df02-8afe-490e-a2f0-723d46c92788|\"Michael Gutierrez\"|West Elizabeth|\n",
      "|53d4d36f-4922-43ef-a0e6-90d2bdc3fbac|\"April Kennedy\"   |Harrismouth   |e54c9d97-3e9c-4b9a-a9d6-329a7dfa36fb|\"Kimberly Burgess\" |Harrismouth   |\n",
      "|566e4257-92dd-4978-842d-423c894225ee|\"Kathleen Flores\" |Bowmanstad    |a17dea46-df89-440a-beff-eeda038a9512|\"Tina George\"      |Bowmanstad    |\n",
      "|56b0a11b-baa3-4d29-89ce-12f9b4fd85f7|\"Alexandra Morgan\"|Whiteton      |ff133d67-3d17-4c91-9fba-9fb70a665558|\"James Knox\"       |Whiteton      |\n",
      "|a66c18d3-92dd-415d-92a2-00f4e0a10528|\"Paula Huff DVM\"  |New Timothy   |b6243864-2829-480b-8848-920f659a6e5b|\"Miguel Webb\"      |New Timothy   |\n",
      "|4ade7e56-dab8-4bbc-a844-2fe6c02df9da|\"Tyler Adams\"     |South Taylor  |8b7a3298-5879-452e-82e4-a16d1950af36|\"Jessica Galloway\" |South Taylor  |\n",
      "|ab320e4c-848a-4e5c-89a6-074b9e912e2f|\"Matthew Sanchez\" |Port Emily    |f8a4d579-3970-424d-9adc-93a448bd080a|\"April Hall\"       |Port Emily    |\n",
      "|3c38505e-9b8f-4cb6-add0-89e7245a5c0e|\"Kristie Harris\"  |Melissamouth  |49a67885-a8eb-4840-b340-81aa9e056d59|\"Karen Thompson\"   |Melissamouth  |\n",
      "|8b7d788a-2139-4e3b-9579-2dd56204f56e|\"Jenny Donovan\"   |West Megan    |ee36e579-40a6-4c58-996b-9489f227b5e5|\"Shawn Morris\"     |West Megan    |\n",
      "+------------------------------------+------------------+--------------+------------------------------------+-------------------+--------------+\n",
      "\n",
      "\n",
      "=== Join with Extracted Table for Performance ===\n",
      "\n"
     ]
    },
    {
     "data": {
      "application/vnd.jupyter.widget-view+json": {
       "model_id": "428fef2bc7c14264a4ed32d3767a7fe2",
       "version_major": 2,
       "version_minor": 0
      },
      "text/plain": [
       "HBox(children=(IntProgress(value=0, bar_style='success'), Label(value='')))"
      ]
     },
     "metadata": {},
     "output_type": "display_data"
    },
    {
     "name": "stdout",
     "output_type": "stream",
     "text": [
      "+------------------------------------+-------------------+---+-----------------+-----------------+-----------------+-------------+-----------------+\n",
      "|user_id                             |name               |age|city             |subscription_tier|extracted_name   |extracted_age|extracted_city   |\n",
      "+------------------------------------+-------------------+---+-----------------+-----------------+-----------------+-------------+-----------------+\n",
      "|a3056c74-5c10-4e43-8bfc-a5ee7c40d25c|\"Raymond Hill\"     |66 |Chadshire        |enterprise       |Raymond Hill     |66           |Chadshire        |\n",
      "|05deaf92-3878-4f92-94da-db6bca9c9c36|\"Sean Rowland\"     |47 |South Kenneth    |enterprise       |Sean Rowland     |47           |South Kenneth    |\n",
      "|8d80ee93-5b56-4684-a020-774e8e4caea9|\"Frederick Molina\" |31 |Chenshire        |free             |Frederick Molina |31           |Chenshire        |\n",
      "|6098f702-4794-4d8a-89be-702f962f0d34|\"Katrina Rodriguez\"|43 |West Kevinborough|free             |Katrina Rodriguez|43           |West Kevinborough|\n",
      "|d56e72ea-b536-467e-8448-4af66f217afb|\"Jennifer Giles\"   |51 |Lake Andrew      |free             |Jennifer Giles   |51           |Lake Andrew      |\n",
      "+------------------------------------+-------------------+---+-----------------+-----------------+-----------------+-------------+-----------------+\n",
      "\n"
     ]
    }
   ],
   "source": [
    "# Self-join on VARIANT data\n",
    "print(\"=== Self-Join on VARIANT Data ===\\n\")\n",
    "\n",
    "spark.sql(\"\"\"\n",
    "    SELECT \n",
    "        u1.user_id as user1_id,\n",
    "        u1.user_data:name as user1_name,\n",
    "        CAST(u1.user_data:address:city AS STRING) as user1_city,\n",
    "        u2.user_id as user2_id,\n",
    "        u2.user_data:name as user2_name,\n",
    "        CAST(u2.user_data:address:city AS STRING) as user2_city\n",
    "    FROM users_variant u1\n",
    "    JOIN users_variant u2\n",
    "        ON CAST(u1.user_data:address:city AS STRING) = CAST(u2.user_data:address:city AS STRING)\n",
    "        AND u1.user_id < u2.user_id\n",
    "    WHERE u1.user_data:address:city IS NOT NULL\n",
    "    LIMIT 10\n",
    "\"\"\").show(truncate=False)\n",
    "\n",
    "# Join with extracted table for performance\n",
    "print(\"\\n=== Join with Extracted Table for Performance ===\\n\")\n",
    "\n",
    "spark.sql(\"\"\"\n",
    "    WITH user_analysis AS (\n",
    "        SELECT \n",
    "            v.user_id,\n",
    "            v.user_data:name as name,\n",
    "            v.user_data:age as age,\n",
    "            CAST(v.user_data:address:city AS STRING) as city,\n",
    "            CAST(v.user_data:subscription:tier AS STRING) as subscription_tier,\n",
    "            e.name as extracted_name,\n",
    "            e.age as extracted_age,\n",
    "            e.city as extracted_city\n",
    "        FROM users_variant v\n",
    "        LEFT JOIN users_extracted e\n",
    "            ON v.user_id = e.user_id\n",
    "        WHERE v.user_data:subscription:tier IS NOT NULL\n",
    "    )\n",
    "    SELECT * FROM user_analysis\n",
    "    WHERE name IS NOT NULL\n",
    "    LIMIT 5\n",
    "\"\"\").show(truncate=False)\n"
   ]
  },
  {
   "cell_type": "markdown",
   "id": "d63a189d",
   "metadata": {},
   "source": [
    "## 11. Advanced VARIANT Use Cases\n",
    "\n",
    "Let's explore some advanced use cases and patterns.\n"
   ]
  },
  {
   "cell_type": "code",
   "execution_count": 42,
   "id": "aaacd05c",
   "metadata": {},
   "outputs": [
    {
     "name": "stdout",
     "output_type": "stream",
     "text": [
      "=== Demonstrating Schema Evolution with VARIANT ===\n",
      "\n",
      "Schema Evolution in our user data:\n",
      "- First 30% of users: Basic schema\n",
      "- Next 30% of users: Added social_media fields\n",
      "- Last 40% of users: Added subscription and metrics fields\n",
      "\n"
     ]
    },
    {
     "data": {
      "application/vnd.jupyter.widget-view+json": {
       "model_id": "62dd67055471428eba3682cf19f7ee36",
       "version_major": 2,
       "version_minor": 0
      },
      "text/plain": [
       "HBox(children=(IntProgress(value=0, bar_style='success'), Label(value='')))"
      ]
     },
     "metadata": {},
     "output_type": "display_data"
    },
    {
     "name": "stdout",
     "output_type": "stream",
     "text": [
      "+------------------------------------+------------------+-----------------------------+---------------------+----------+-----------------+-----------+\n",
      "|user_id                             |name              |email                        |phone                |twitter   |subscription_tier|login_count|\n",
      "+------------------------------------+------------------+-----------------------------+---------------------+----------+-----------------+-----------+\n",
      "|8c4f1e37-d08d-4d77-9e6b-25c215f0aee6|\"Paul Moreno\"     |\"trevinomaureen@example.org\" |\"462-903-2265\"       |NULL      |NULL             |NULL       |\n",
      "|49aa1f96-a568-487a-a34f-dd102f80081f|\"Michael Figueroa\"|\"ericksonmichael@example.org\"|NULL                 |null      |NULL             |NULL       |\n",
      "|e05b4101-c748-49df-959d-6e2bcf4d1331|\"Amy Harmon\"      |\"dbowen@example.net\"         |\"(796)683-2116x53978\"|\"@zbarber\"|\"free\"           |401        |\n",
      "+------------------------------------+------------------+-----------------------------+---------------------+----------+-----------------+-----------+\n",
      "\n",
      "\n",
      "✅ VARIANT seamlessly handles schema evolution - old and new fields coexist!\n"
     ]
    }
   ],
   "source": [
    "# Dynamic schema evolution handling\n",
    "print(\"=== Demonstrating Schema Evolution with VARIANT ===\\n\")\n",
    "\n",
    "# The data we generated already simulates schema evolution\n",
    "# Let's query to show how VARIANT handles different schema versions seamlessly\n",
    "\n",
    "print(\"Schema Evolution in our user data:\")\n",
    "print(\"- First 30% of users: Basic schema\")\n",
    "print(\"- Next 30% of users: Added social_media fields\")\n",
    "print(\"- Last 40% of users: Added subscription and metrics fields\\n\")\n",
    "\n",
    "# Query showing all schema versions work together\n",
    "spark.sql(\"\"\"\n",
    "    SELECT \n",
    "        user_id,\n",
    "        user_data:name as name,\n",
    "        user_data:email as email,\n",
    "        user_data:phone as phone,  -- Optional field\n",
    "        user_data:social_media:twitter as twitter,  -- Added in v2\n",
    "        user_data:subscription:tier as subscription_tier,  -- Added in v3\n",
    "        user_data:metrics:login_count as login_count  -- Added in v3\n",
    "    FROM users_variant\n",
    "    WHERE user_id IN (\n",
    "        (SELECT user_id FROM users_variant LIMIT 1 OFFSET 100)\n",
    "        UNION ALL\n",
    "        (SELECT user_id FROM users_variant LIMIT 1 OFFSET 500)\n",
    "        UNION ALL\n",
    "        (SELECT user_id FROM users_variant LIMIT 1 OFFSET 900)\n",
    "    )\n",
    "\"\"\").show(truncate=False)\n",
    "\n",
    "print(\"\\n✅ VARIANT seamlessly handles schema evolution - old and new fields coexist!\")\n"
   ]
  },
  {
   "cell_type": "code",
   "execution_count": 43,
   "id": "ae497cfe",
   "metadata": {},
   "outputs": [
    {
     "name": "stdout",
     "output_type": "stream",
     "text": [
      "=== Pivoting VARIANT Data ===\n",
      "\n"
     ]
    },
    {
     "data": {
      "application/vnd.jupyter.widget-view+json": {
       "model_id": "fef06c60e38947fb96f999a130c70598",
       "version_major": 2,
       "version_minor": 0
      },
      "text/plain": [
       "HBox(children=(IntProgress(value=0, bar_style='success'), Label(value='')))"
      ]
     },
     "metadata": {},
     "output_type": "display_data"
    },
    {
     "name": "stdout",
     "output_type": "stream",
     "text": [
      "+--------------------+----+-----+-------+----------+\n",
      "|             country|free|basic|premium|enterprise|\n",
      "+--------------------+----+-----+-------+----------+\n",
      "|         Afghanistan|   1|    1|   NULL|      NULL|\n",
      "|             Algeria|NULL| NULL|      2|      NULL|\n",
      "|      American Samoa|   1|    1|   NULL|         1|\n",
      "|             Andorra|   1| NULL|   NULL|      NULL|\n",
      "|              Angola|NULL| NULL|      1|         1|\n",
      "|Antarctica (the t...|NULL|    1|   NULL|         2|\n",
      "| Antigua and Barbuda|   2|    1|      1|      NULL|\n",
      "|           Argentina|NULL| NULL|   NULL|         2|\n",
      "|             Armenia|NULL| NULL|      1|      NULL|\n",
      "|               Aruba|   1| NULL|   NULL|         1|\n",
      "+--------------------+----+-----+-------+----------+\n",
      "\n",
      "\n",
      "=== Creating Structured View from VARIANT ===\n",
      "\n",
      "✅ Created structured view from VARIANT data\n"
     ]
    },
    {
     "data": {
      "application/vnd.jupyter.widget-view+json": {
       "model_id": "0331bc299aee42fcbf91a5e2a6094600",
       "version_major": 2,
       "version_minor": 0
      },
      "text/plain": [
       "HBox(children=(IntProgress(value=0, bar_style='success'), Label(value='')))"
      ]
     },
     "metadata": {},
     "output_type": "display_data"
    },
    {
     "name": "stdout",
     "output_type": "stream",
     "text": [
      "+--------------------+-----------------+--------------------+---+--------------+----------+-----------------+--------------------+--------------+\n",
      "|             user_id|             name|               email|age|          city|   country|newsletter_opt_in|        created_date|interest_count|\n",
      "+--------------------+-----------------+--------------------+---+--------------+----------+-----------------+--------------------+--------------+\n",
      "|2f32f341-0ab8-434...|  Michael Ramirez|iferguson@example...| 42|    New Ashley|Costa Rica|            false|2023-03-04 01:53:...|             1|\n",
      "|780ba3e9-1bf1-4a9...|       Brian King|  pterry@example.net| 61|   Johnsonfort|     Spain|             true|2025-01-17 09:37:...|             3|\n",
      "|9e2efb9b-a96a-4fd...|    Justin Norris|ronaldrobinson@ex...| 25| Rodneyborough|      Iran|             true|2024-03-20 20:51:...|             4|\n",
      "|c6b4503d-5d54-4ce...|     David Kelley|ashleyperry@examp...| 68|    West Holly|   Ireland|             true|2024-11-10 07:58:...|             4|\n",
      "|4287df02-8afe-490...|Michael Gutierrez|dixonlori@example...| 40|West Elizabeth|    Panama|             true|2024-05-18 01:47:...|             5|\n",
      "+--------------------+-----------------+--------------------+---+--------------+----------+-----------------+--------------------+--------------+\n",
      "\n"
     ]
    }
   ],
   "source": [
    "# Pivoting VARIANT data\n",
    "print(\"=== Pivoting VARIANT Data ===\\n\")\n",
    "\n",
    "spark.sql(\"\"\"\n",
    "    WITH subscription_counts AS (\n",
    "        SELECT \n",
    "            CAST(user_data:address:country AS STRING) as country,\n",
    "            CAST(user_data:subscription:tier AS STRING) as subscription_tier,\n",
    "            COUNT(*) as user_count\n",
    "        FROM users_variant\n",
    "        WHERE user_data:subscription:tier IS NOT NULL\n",
    "            AND user_data:address:country IS NOT NULL\n",
    "        GROUP BY country, subscription_tier\n",
    "    )\n",
    "    SELECT * FROM subscription_counts\n",
    "    PIVOT (\n",
    "        SUM(user_count)\n",
    "        FOR subscription_tier IN ('free', 'basic', 'premium', 'enterprise')\n",
    "    )\n",
    "    ORDER BY country\n",
    "    LIMIT 10\n",
    "\"\"\").show()\n",
    "\n",
    "# Creating materialized views from VARIANT data\n",
    "print(\"\\n=== Creating Structured View from VARIANT ===\\n\")\n",
    "\n",
    "spark.sql(\"\"\"\n",
    "    CREATE OR REPLACE TEMPORARY VIEW user_details AS\n",
    "    SELECT \n",
    "        user_id,\n",
    "        CAST(user_data:name AS STRING) as name,\n",
    "        CAST(user_data:email AS STRING) as email,\n",
    "        CAST(user_data:age AS INT) as age,\n",
    "        CAST(user_data:address:city AS STRING) as city,\n",
    "        CAST(user_data:address:country AS STRING) as country,\n",
    "        CAST(user_data:preferences:newsletter AS BOOLEAN) as newsletter_opt_in,\n",
    "        CAST(user_data:created_at AS TIMESTAMP) as created_date,\n",
    "        SIZE(CAST(user_data:profile:interests AS ARRAY<STRING>)) as interest_count\n",
    "    FROM users_variant\n",
    "\"\"\")\n",
    "\n",
    "print(\"✅ Created structured view from VARIANT data\")\n",
    "\n",
    "spark.sql(\"SELECT * FROM user_details LIMIT 5\").show()\n"
   ]
  },
  {
   "cell_type": "markdown",
   "id": "b01de113",
   "metadata": {},
   "source": [
    "## 12. Performance Optimization with VARIANT\n",
    "\n",
    "Best practices for optimizing queries on VARIANT data.\n"
   ]
  },
  {
   "cell_type": "code",
   "execution_count": 44,
   "id": "92907a72",
   "metadata": {},
   "outputs": [
    {
     "name": "stdout",
     "output_type": "stream",
     "text": [
      "=== Optimizing with Extracted Columns ===\n",
      "\n"
     ]
    },
    {
     "data": {
      "application/vnd.jupyter.widget-view+json": {
       "model_id": "a5f4a6761c734950be74e4ed6f28886f",
       "version_major": 2,
       "version_minor": 0
      },
      "text/plain": [
       "HBox(children=(IntProgress(value=0, bar_style='success'), Label(value='')))"
      ]
     },
     "metadata": {},
     "output_type": "display_data"
    },
    {
     "name": "stdout",
     "output_type": "stream",
     "text": [
      "✅ Created optimized table with extracted columns\n",
      "\n",
      "📊 Query Performance Comparison:\n",
      "Original: Scanning full VARIANT for every query\n",
      "Optimized: Can use extracted columns for filtering and joins\n",
      "+-------------------+---------+-------+\n",
      "|           col_name|data_type|comment|\n",
      "+-------------------+---------+-------+\n",
      "|            user_id|   string|   NULL|\n",
      "|           username|   string|   NULL|\n",
      "|              email|   string|   NULL|\n",
      "|          user_data|  variant|   NULL|\n",
      "|     extracted_name|   string|   NULL|\n",
      "|      extracted_age|      int|   NULL|\n",
      "|extracted_timestamp|timestamp|   NULL|\n",
      "|ingestion_timestamp|timestamp|   NULL|\n",
      "+-------------------+---------+-------+\n",
      "\n",
      "\n",
      "=== Efficient Filtering with Extracted Columns ===\n",
      "\n"
     ]
    },
    {
     "data": {
      "application/vnd.jupyter.widget-view+json": {
       "model_id": "c4b1b87a2be14318a229c01d02d72567",
       "version_major": 2,
       "version_minor": 0
      },
      "text/plain": [
       "HBox(children=(IntProgress(value=0, bar_style='success'), Label(value='')))"
      ]
     },
     "metadata": {},
     "output_type": "display_data"
    },
    {
     "name": "stdout",
     "output_type": "stream",
     "text": [
      "+----------------+--------------+--------------------+\n",
      "|  extracted_name|      username|               email|\n",
      "+----------------+--------------+--------------------+\n",
      "|   Justin Norris|       lcuevas|\"ronaldrobinson@e...|\n",
      "|       Jodi Barr|    michelle35|\"jburns@example.net\"|\n",
      "|   Julie Mcclure|meganrobertson|\"annatravis@examp...|\n",
      "|James Fitzgerald|      ndaniels|\"jhorton@example....|\n",
      "|  Jordan Shepard|       ivargas|\"jeffreygoodman@e...|\n",
      "+----------------+--------------+--------------------+\n",
      "\n"
     ]
    }
   ],
   "source": [
    "# Performance tip: Extract frequently accessed fields\n",
    "print(\"=== Optimizing with Extracted Columns ===\\n\")\n",
    "\n",
    "# Create an optimized table with extracted common fields\n",
    "spark.sql(f\"\"\"\n",
    "    CREATE OR REPLACE TABLE variant_optimized\n",
    "    USING DELTA\n",
    "    TBLPROPERTIES('delta.feature.allowColumnDefaults' = 'supported')\n",
    "    AS\n",
    "    SELECT \n",
    "        user_id,\n",
    "        username,\n",
    "        email,\n",
    "        user_data,\n",
    "        -- Extract frequently accessed fields as separate columns\n",
    "        CAST(user_data:name AS STRING) as extracted_name,\n",
    "        CAST(user_data:age AS INT) as extracted_age,\n",
    "        CAST(user_data:created_at AS TIMESTAMP) as extracted_timestamp,\n",
    "        ingestion_timestamp\n",
    "    FROM users_variant\n",
    "\"\"\")\n",
    "\n",
    "print(\"✅ Created optimized table with extracted columns\")\n",
    "\n",
    "# Compare query performance (conceptual)\n",
    "print(\"\\n📊 Query Performance Comparison:\")\n",
    "print(\"Original: Scanning full VARIANT for every query\")\n",
    "print(\"Optimized: Can use extracted columns for filtering and joins\")\n",
    "\n",
    "# Show the optimized table structure\n",
    "spark.sql(\"DESCRIBE TABLE variant_optimized\").show()\n",
    "\n",
    "# Example of efficient filtering using extracted columns\n",
    "print(\"\\n=== Efficient Filtering with Extracted Columns ===\\n\")\n",
    "\n",
    "spark.sql(\"\"\"\n",
    "    SELECT \n",
    "        extracted_name,\n",
    "        username,\n",
    "        user_data:email as email\n",
    "    FROM variant_optimized\n",
    "    WHERE extracted_name LIKE 'J%'  -- Uses extracted column for efficient filtering\n",
    "    LIMIT 5\n",
    "\"\"\").show()\n"
   ]
  },
  {
   "cell_type": "markdown",
   "id": "3f02f207",
   "metadata": {},
   "source": [
    "## 13. Cleanup Script\n",
    "\n",
    "This section provides a comprehensive cleanup script to remove all resources created during this exploration.\n"
   ]
  },
  {
   "cell_type": "code",
   "execution_count": 45,
   "id": "39dcdac8",
   "metadata": {},
   "outputs": [
    {
     "name": "stdout",
     "output_type": "stream",
     "text": [
      "🧹 Cleaning up VARIANT exploration resources...\n",
      "✅ Dropped table: users_variant\n",
      "✅ Dropped table: users_extracted\n",
      "✅ Dropped table: variant_optimized\n",
      "✅ Dropped view: user_details\n",
      "✅ Cleaned volume files\n",
      "✅ Reset to main catalog, default schema\n",
      "\n",
      "🎉 Cleanup complete!\n"
     ]
    }
   ],
   "source": [
    "# Cleanup Script - Removes all resources created during VARIANT exploration\n",
    "\n",
    "def cleanup():\n",
    "    \"\"\"Simple cleanup function to remove all created resources\"\"\"\n",
    "    print(\"🧹 Cleaning up VARIANT exploration resources...\")\n",
    "    \n",
    "    # Drop tables\n",
    "    tables = ['users_variant', 'users_extracted', 'variant_optimized']\n",
    "    for table in tables:\n",
    "        spark.sql(f\"DROP TABLE IF EXISTS {table}\")\n",
    "        print(f\"✅ Dropped table: {table}\")\n",
    "    \n",
    "    # Drop views\n",
    "    spark.sql(\"DROP VIEW IF EXISTS user_details\")\n",
    "    print(\"✅ Dropped view: user_details\")\n",
    "    \n",
    "    # Clean volume files\n",
    "    users_folder = f\"/Volumes/{CATALOG}/{SCHEMA}/{VOLUME}/users\"\n",
    "    try:\n",
    "        dbutils.fs.rm(users_folder, recurse=True)\n",
    "        print(\"✅ Cleaned volume files\")\n",
    "    except:\n",
    "        print(\"⚠️  Volume files may not exist\")\n",
    "    \n",
    "    # Reset to default catalog/schema\n",
    "    spark.sql(\"USE CATALOG main\")\n",
    "    spark.sql(\"USE SCHEMA default\")\n",
    "    print(\"✅ Reset to main catalog, default schema\")\n",
    "    \n",
    "    print(\"\\n🎉 Cleanup complete!\")\n",
    "\n",
    "# Run cleanup\n",
    "cleanup()\n"
   ]
  },
  {
   "cell_type": "code",
   "execution_count": 46,
   "id": "49e7acf8",
   "metadata": {},
   "outputs": [],
   "source": [
    "# Optional: Individual cleanup functions\n",
    "\n",
    "# def drop_tables_only():\n",
    "#     \"\"\"Drop only the tables\"\"\"\n",
    "#     tables = ['users_variant', 'users_extracted', 'variant_optimized']\n",
    "#     for table in tables:\n",
    "#         spark.sql(f\"DROP TABLE IF EXISTS {table}\")\n",
    "#         print(f\"✅ Dropped {table}\")\n",
    "\n",
    "# def clean_volume_only():\n",
    "#     \"\"\"Clean only the volume files\"\"\"\n",
    "#     dbutils.fs.rm(f\"/Volumes/{CATALOG}/{SCHEMA}/{VOLUME}/users\", recurse=True)\n",
    "#     print(\"✅ Cleaned volume files\")\n",
    "\n",
    "# Usage:\n",
    "# cleanup()           # Full cleanup (already run above)\n",
    "# drop_tables_only()  # Drop only tables\n",
    "# clean_volume_only() # Clean only volume files\n"
   ]
  }
 ],
 "metadata": {
  "kernelspec": {
   "display_name": "base",
   "language": "python",
   "name": "python3"
  },
  "language_info": {
   "codemirror_mode": {
    "name": "ipython",
    "version": 3
   },
   "file_extension": ".py",
   "mimetype": "text/x-python",
   "name": "python",
   "nbconvert_exporter": "python",
   "pygments_lexer": "ipython3",
   "version": "3.12.7"
  }
 },
 "nbformat": 4,
 "nbformat_minor": 5
}
